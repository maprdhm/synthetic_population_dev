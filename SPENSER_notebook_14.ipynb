{
 "cells": [
  {
   "cell_type": "code",
   "execution_count": null,
   "id": "64be9ff2",
   "metadata": {},
   "outputs": [],
   "source": [
    "import glob\n",
    "import pandas as pd\n",
    "import numpy as np\n",
    "import os\n",
    "import csv\n",
    "import sys\n",
    "import math as m\n",
    "\n",
    "year='2021'"
   ]
  },
  {
   "cell_type": "code",
   "execution_count": null,
   "id": "c7652cdb",
   "metadata": {},
   "outputs": [],
   "source": [
    "#Read CSV file containing the persons from the WM \n",
    "df_persons_NE_dir = '/home/manon/Documents/Leeds/RAIM/code/RAIM/data/westmidlands/synthetic_pop_SPENSER/'+year+'/NE_only' # use your path\n",
    "df_persons_NE_file = os.path.join(df_persons_NE_dir, \"df_persons_NE_sociodemographics.csv\")\n",
    "df_persons_NE = pd.read_csv(df_persons_NE_file, index_col=None, header=0)"
   ]
  },
  {
   "cell_type": "code",
   "execution_count": null,
   "id": "28143a43",
   "metadata": {},
   "outputs": [],
   "source": [
    "#List containing the range of ages\n",
    "age_range = [(0,0),(1,4),(5,9),(10,14),(15,19),(20,24),(25,29),(30,34),(35,39),(40,44),(45,49),(50,54),(55,59),(60,64),(65,69),(70,74),(75,79),(80,84),(85,89),(90,120)]\n",
    "\n",
    "#Probabilities from CT0794 - Age by long-term health problem or disability by general health by sex – Census 2011 \n",
    "#By gender and age range: \n",
    "# % of men by age that have v.good/good health \n",
    "men_good_percentage_list = [0.967,0.962,0.957,0.957,0.954,0.937,0.919,\n",
    "                            0.896,0.866,0.825,0.780,0.721,0.648,0.591,\n",
    "                            0.555,0.491,0.416,0.337,0.277,0.239]\n",
    "\n",
    "# % of women by age that have v.good/good health \n",
    "women_good_percentage_list = [0.971,0.969,0.968,0.966,0.949,0.930,0.909,\n",
    "                              0.886,0.846,0.805,0.756,0.697,0.630,0.600,\n",
    "                              0.545,0.461,0.374,0.287,0.222,0.180]\n",
    "\n",
    "# % of men by age that have fair health \n",
    "men_fair_percentage_list = [0.025,0.029,0.033,0.033,0.035,0.049,0.060,\n",
    "                            0.075,0.095,0.123,0.152,0.191,0.229,0.264,\n",
    "                            0.305,0.347,0.388,0.431,0.444,0.457]\n",
    "\n",
    "# % of women by age that have fair health \n",
    "women_fair_percentage_list = [0.020,0.023,0.025,0.027,0.041,0.057,0.072,\n",
    "                              0.088,0.113,0.140,0.169,0.202,0.235,0.274,\n",
    "                              0.312,0.363,0.416,0.455,0.476,0.490]\n",
    "\n",
    "# % of men by age that have bad/v. bad health \n",
    "men_bad_percentage_list = [0.008,0.009,0.010,0.010,0.011,0.014,\n",
    "                            0.021,0.029,0.039,0.052,0.067,0.089,0.123,\n",
    "                            0.144,0.140,0.162,0.196,0.232,0.279,0.303]\n",
    "\n",
    "# % of women by age that have bad/v. bad health \n",
    "women_bad_percentage_list = [0.009,0.007,0.007,0.008,0.010,0.013,0.019,\n",
    "                              0.027,0.041,0.055,0.075,0.101,0.135,0.127,\n",
    "                              0.143,0.176,0.210,0.258,0.302,0.331]"
   ]
  },
  {
   "cell_type": "code",
   "execution_count": null,
   "id": "33f80e4f",
   "metadata": {},
   "outputs": [],
   "source": [
    "# Create a new empty column for the health status (0/1/2) and initialised to 0)\n",
    "df_persons_NE[\"Health_status\"] = 0\n",
    "df_persons_NE"
   ]
  },
  {
   "cell_type": "code",
   "execution_count": null,
   "id": "7f0dc5f7",
   "metadata": {},
   "outputs": [],
   "source": [
    "good_health_list = []\n",
    "\n",
    "age_index = 0\n",
    "for age in age_range:\n",
    "    for gender in [1,2]:\n",
    "        if(gender==1):\n",
    "            proba = men_good_percentage_list[age_index]\n",
    "        else:\n",
    "            proba = women_good_percentage_list[age_index]\n",
    "                                \n",
    "        # Select those people within the sex and range of age selected:\n",
    "        globals()[f\"df_{gender}_age_{age[0]}_{age[1]}\"] = df_persons_NE.loc[(df_persons_NE['Age'] >= age[0]) & (df_persons_NE['Age'] <= age[1]) & (df_persons_NE['Sex'] == gender)]\n",
    "    \n",
    "        # Select randomly the % of people with a good health from the previous dataframe:               \n",
    "        globals()[f\"df_{gender}_age_{age[0]}_{age[1]}_good\"] = globals()[f\"df_{gender}_age_{age[0]}_{age[1]}\"].sample(int(len(globals()[f\"df_{gender}_age_{age[0]}_{age[1]}\"]) * proba))\n",
    "\n",
    "        #Append the dataframe into the temp list\n",
    "        good_health_list.append(globals()[f\"df_{gender}_age_{age[0]}_{age[1]}_good\"])\n",
    "\n",
    "    age_index = age_index+1\n",
    "    \n",
    "#concatenate all persons with a good health in one dataframe\n",
    "df_persons_NE_good_health = pd.concat(good_health_list, axis=0, ignore_index=True)\n",
    "\n",
    "#Update the value of the column \"Health_status\" to those people with a good health:\n",
    "df_persons_NE_good_health[\"Health_status\"] = \"2\"\n",
    "    "
   ]
  },
  {
   "cell_type": "code",
   "execution_count": null,
   "id": "0a73dfba",
   "metadata": {},
   "outputs": [],
   "source": [
    "len(df_persons_NE_good_health)"
   ]
  },
  {
   "cell_type": "code",
   "execution_count": null,
   "id": "faaf5d7d",
   "metadata": {},
   "outputs": [],
   "source": [
    "# Concatenate the dataframe of all people + the ones selected before as good health\n",
    "df_persons_NE_plus = (pd.concat([df_persons_NE, df_persons_NE_good_health]))\n",
    "\n",
    "# Remove duplicates and keep only those who were not assigned\n",
    "df_persons_NE_plus = df_persons_NE_plus.drop_duplicates(subset='PID_AreaMSOA', keep = False)\n",
    "df_persons_NE_plus\n",
    "len(df_persons_NE_plus)"
   ]
  },
  {
   "cell_type": "code",
   "execution_count": null,
   "id": "0a592e24",
   "metadata": {},
   "outputs": [],
   "source": [
    "fair_health_list = []\n",
    "\n",
    "age_index = 0\n",
    "for age in age_range:\n",
    "    for gender in [1,2]:\n",
    "        if(gender==1):\n",
    "            proba = men_fair_percentage_list[age_index]\n",
    "        else:\n",
    "            proba = women_fair_percentage_list[age_index]\n",
    "                                \n",
    "        # Select those people within the sex and range of age selected:\n",
    "        globals()[f\"df_{gender}_age_{age[0]}_{age[1]}\"] = df_persons_NE_plus.loc[(df_persons_NE_plus['Age'] >= age[0]) & (df_persons_NE_plus['Age'] <= age[1]) & (df_persons_NE_plus['Sex'] == gender)]\n",
    "    \n",
    "        # Select randomly the % of people with a fair health from the previous dataframe:               \n",
    "        globals()[f\"df_{gender}_age_{age[0]}_{age[1]}_fair\"] = globals()[f\"df_{gender}_age_{age[0]}_{age[1]}\"].sample(int(len(globals()[f\"df_{gender}_age_{age[0]}_{age[1]}\"]) * proba))\n",
    "\n",
    "        #Append the dataframe into the temp list\n",
    "        fair_health_list.append(globals()[f\"df_{gender}_age_{age[0]}_{age[1]}_fair\"])\n",
    "\n",
    "    age_index = age_index+1\n",
    "    \n",
    "#concatenate all persons with a fair health in one dataframe\n",
    "df_persons_NE_fair_health = pd.concat(fair_health_list, axis=0, ignore_index=True)\n",
    "\n",
    "#Update the value of the column \"Health_status\" to those people with a fair health:\n",
    "df_persons_NE_fair_health[\"Health_status\"] = \"1\""
   ]
  },
  {
   "cell_type": "code",
   "execution_count": null,
   "id": "6ba920df",
   "metadata": {},
   "outputs": [],
   "source": [
    "len(df_persons_NE_fair_health)"
   ]
  },
  {
   "cell_type": "code",
   "execution_count": null,
   "id": "a2df9034",
   "metadata": {},
   "outputs": [],
   "source": [
    "# Concatenate the dataframe of all people + the ones selected before as good health or fair health\n",
    "df_persons_NE_plus_plus = (pd.concat([df_persons_NE_plus, df_persons_NE_fair_health]))\n",
    "\n",
    "# Remove duplicates and keep only those who were not assigned\n",
    "df_persons_NE_bad = df_persons_NE_plus_plus.drop_duplicates(subset='PID_AreaMSOA', keep = False)\n",
    "df_persons_NE_bad\n",
    "len(df_persons_NE_bad)"
   ]
  },
  {
   "cell_type": "code",
   "execution_count": null,
   "id": "6dd2e6ab",
   "metadata": {},
   "outputs": [],
   "source": [
    "# Check all people with bad health have 0 value\n",
    "len(df_persons_NE_bad.loc[df_persons_NE_bad[\"Health_status\"] != 0])"
   ]
  },
  {
   "cell_type": "code",
   "execution_count": null,
   "id": "95e956e3",
   "metadata": {},
   "outputs": [],
   "source": [
    "#Merge all and write to csv\n",
    "df_persons_NE_health = (pd.concat([df_persons_NE_good_health, df_persons_NE_fair_health, df_persons_NE_bad]))\n",
    "len(df_persons_NE_health)\n",
    "df_persons_NE_health.to_csv('/home/manon/Documents/Leeds/RAIM/code/RAIM/data/westmidlands/synthetic_pop_SPENSER/'+year+'/NE_only/df_persons_NE_sociodemographics_health.csv', encoding='utf-8', header=True)"
   ]
  },
  {
   "cell_type": "code",
   "execution_count": null,
   "id": "76ec281d",
   "metadata": {},
   "outputs": [],
   "source": []
  }
 ],
 "metadata": {
  "kernelspec": {
   "display_name": "Python 3 (ipykernel)",
   "language": "python",
   "name": "python3"
  },
  "language_info": {
   "codemirror_mode": {
    "name": "ipython",
    "version": 3
   },
   "file_extension": ".py",
   "mimetype": "text/x-python",
   "name": "python",
   "nbconvert_exporter": "python",
   "pygments_lexer": "ipython3",
   "version": "3.8.10"
  }
 },
 "nbformat": 4,
 "nbformat_minor": 5
}
