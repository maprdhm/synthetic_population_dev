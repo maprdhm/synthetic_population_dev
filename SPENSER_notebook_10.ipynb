{
 "cells": [
  {
   "cell_type": "code",
   "execution_count": null,
   "metadata": {},
   "outputs": [],
   "source": [
    "import glob\n",
    "import pandas as pd\n",
    "import numpy as np\n",
    "import os\n",
    "import csv\n",
    "import sys\n",
    "\n",
    "year='2030'"
   ]
  },
  {
   "cell_type": "code",
   "execution_count": null,
   "metadata": {},
   "outputs": [],
   "source": [
    "#Read CSV file containing the people from the North East of England\n",
    "df_persons_NE_driving_licence_dir = '/home/manon/Documents/Leeds/RAIM/code/RAIM/data/westmidlands/synthetic_pop_SPENSER/'+year+'/NE_only' # use your path\n",
    "df_persons_NE_driving_licence_file = os.path.join(df_persons_NE_driving_licence_dir, \"df_persons_NE_drivinglicence_20222306_correct.csv\")\n",
    "df_persons_NE_driving_licence = pd.read_csv(df_persons_NE_driving_licence_file, index_col=None, header=0)"
   ]
  },
  {
   "cell_type": "code",
   "execution_count": null,
   "metadata": {},
   "outputs": [],
   "source": [
    "len(df_persons_NE_driving_licence)"
   ]
  },
  {
   "cell_type": "code",
   "execution_count": null,
   "metadata": {},
   "outputs": [],
   "source": [
    "df_persons_NE_driving_licence.dtypes"
   ]
  },
  {
   "cell_type": "code",
   "execution_count": null,
   "metadata": {},
   "outputs": [],
   "source": [
    "# Generate a new column in the dataframe ('Car_access).\n",
    "# this new column shows if the person have access to a car in the household \n",
    "# when the person has a driving licence and there is at least one car in the household.\n",
    "\n",
    "df_persons_NE_driving_licence['Car_access'] = False\n",
    "\n",
    "\n",
    "for idx_person, person in df_persons_NE_driving_licence.iterrows():\n",
    "    \n",
    "    # if there is at least one car in the household and the person has a driving licence\n",
    "    if ((person['LC4202_C_CARSNO_x'] > 1) and (person['Driving_license'] == True)):\n",
    "        \n",
    "        df_persons_NE_driving_licence.at[idx_person,'Car_access'] = True\n",
    "        \n",
    "    else:\n",
    "        \n",
    "        df_persons_NE_driving_licence.at[idx_person,'Car_access'] =  False\n",
    "        \n",
    "       \n"
   ]
  },
  {
   "cell_type": "code",
   "execution_count": null,
   "metadata": {},
   "outputs": [],
   "source": [
    "df_persons_NE_car_access = df_persons_NE_driving_licence"
   ]
  },
  {
   "cell_type": "code",
   "execution_count": null,
   "metadata": {},
   "outputs": [],
   "source": [
    "#Export the df_persons_NE_household_composition_updated\n",
    "\n",
    "df_persons_NE_car_access_20222306_correct = df_persons_NE_car_access\n",
    "\n",
    "df_persons_NE_car_access_20222306_correct.to_csv('/home/manon/Documents/Leeds/RAIM/code/RAIM/data/westmidlands/synthetic_pop_SPENSER/'+year+'/NE_only/df_persons_NE_car_access_20222306_correct.csv', encoding='utf-8', header=True)\n"
   ]
  }
 ],
 "metadata": {
  "kernelspec": {
   "display_name": "Python 3 (ipykernel)",
   "language": "python",
   "name": "python3"
  },
  "language_info": {
   "codemirror_mode": {
    "name": "ipython",
    "version": 3
   },
   "file_extension": ".py",
   "mimetype": "text/x-python",
   "name": "python",
   "nbconvert_exporter": "python",
   "pygments_lexer": "ipython3",
   "version": "3.8.10"
  }
 },
 "nbformat": 4,
 "nbformat_minor": 2
}
