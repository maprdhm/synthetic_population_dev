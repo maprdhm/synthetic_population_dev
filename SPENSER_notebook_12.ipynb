{
 "cells": [
  {
   "cell_type": "code",
   "execution_count": null,
   "metadata": {},
   "outputs": [],
   "source": [
    "import glob\n",
    "import pandas as pd\n",
    "import numpy as np\n",
    "import os\n",
    "import csv\n",
    "import sys\n",
    "\n",
    "year='2021'"
   ]
  },
  {
   "cell_type": "code",
   "execution_count": null,
   "metadata": {},
   "outputs": [],
   "source": [
    "# Open the file with the unemployed people\n",
    "df_unemployed_dir = '/home/manon/Documents/Leeds/RAIM/code/RAIM/data/westmidlands/synthetic_pop_SPENSER/'+year+'/NE_only/' # use your path\n",
    "df_unemployed_file = os.path.join(df_unemployed_dir, \"df_persons_NE_unemployed_2021112.csv\")\n",
    "df_unemployed = pd.read_csv(df_unemployed_file, index_col=None, header=0)"
   ]
  },
  {
   "cell_type": "code",
   "execution_count": null,
   "metadata": {},
   "outputs": [],
   "source": [
    "## Get only those that are <16 years old only\",\n",
    "df_unemployed_under16 = df_unemployed.loc[(df_unemployed['Age']<16)]\n",
    "\n",
    "len(df_unemployed_under16)"
   ]
  },
  {
   "cell_type": "code",
   "execution_count": null,
   "metadata": {},
   "outputs": [],
   "source": [
    "# Update their economic_activity to 'Inactive'\n",
    "df_unemployed_under16['Economic_activity'] = 'Inactive'"
   ]
  },
  {
   "cell_type": "code",
   "execution_count": null,
   "metadata": {},
   "outputs": [],
   "source": [
    "# Update their occupation to 'Child student'\n",
    "df_unemployed_under16['Occupation'] = 'Child student'"
   ]
  },
  {
   "cell_type": "code",
   "execution_count": null,
   "metadata": {
    "scrolled": false
   },
   "outputs": [],
   "source": [
    "# Update their income to 0\n",
    "df_unemployed_under16['Income'] = 0"
   ]
  },
  {
   "cell_type": "code",
   "execution_count": null,
   "metadata": {},
   "outputs": [],
   "source": [
    "df_persons_NE_children_20220309 = df_unemployed_under16"
   ]
  },
  {
   "cell_type": "code",
   "execution_count": null,
   "metadata": {},
   "outputs": [],
   "source": [
    "len(df_persons_NE_children_20220309)"
   ]
  },
  {
   "cell_type": "code",
   "execution_count": null,
   "metadata": {},
   "outputs": [],
   "source": [
    "# Open the file with the persons with occupation and income (output from spenser_notebook_8)\n",
    "df_occupation_income_dir = '/home/manon/Documents/Leeds/RAIM/code/RAIM/data/westmidlands/synthetic_pop_SPENSER/'+year+'/NE_only/' # use your path\n",
    "df_occupation_income_file = os.path.join(df_occupation_income_dir, \"df_income_new_2_correct.csv\")\n",
    "df_occupation_income = pd.read_csv(df_occupation_income_file, index_col=None, header=0)"
   ]
  },
  {
   "cell_type": "code",
   "execution_count": null,
   "metadata": {},
   "outputs": [],
   "source": [
    "# Open the file with the inactive persons and income (output from spenser_notebook_11)\n",
    "df_income_inactive_dir = '/home/manon/Documents/Leeds/RAIM/code/RAIM/data/westmidlands/synthetic_pop_SPENSER/'+year+'/NE_only/' # use your path\n",
    "df_income_inactive_file = os.path.join(df_income_inactive_dir, \"df_persons_NE_inactive_5categories_income_correct.csv\")\n",
    "df_income_inactive = pd.read_csv(df_income_inactive_file, index_col=None, header=0)"
   ]
  },
  {
   "cell_type": "code",
   "execution_count": null,
   "metadata": {},
   "outputs": [],
   "source": [
    "# concatenate the last three dataframes and check if total number is the total population of the area of study:\n",
    "df_persons_NE_sociodemographics = pd.concat([df_occupation_income, df_income_inactive, df_persons_NE_children_20220309])\n",
    "\n",
    "len(df_persons_NE_sociodemographics)"
   ]
  },
  {
   "cell_type": "code",
   "execution_count": null,
   "metadata": {},
   "outputs": [],
   "source": [
    "# Save the data:\n",
    "df_persons_NE_sociodemographics.to_csv('/home/manon/Documents/Leeds/RAIM/code/RAIM/data/westmidlands/synthetic_pop_SPENSER/'+year+'/NE_only/df_persons_NE_sociodemographics.csv', encoding='utf-8', header=True)\n"
   ]
  },
  {
   "cell_type": "markdown",
   "metadata": {},
   "source": [
    "### Analysis of attribute values. 3 groups of people: age 0-15, 16-64 and 65+"
   ]
  },
  {
   "cell_type": "code",
   "execution_count": null,
   "metadata": {},
   "outputs": [],
   "source": [
    "df_persons_NE_sociodemographics_0_15 = df_persons_NE_sociodemographics.loc[(df_persons_NE_sociodemographics['Age'] < 16)]\n",
    "    "
   ]
  },
  {
   "cell_type": "code",
   "execution_count": null,
   "metadata": {},
   "outputs": [],
   "source": [
    "df_persons_NE_sociodemographics_0_15['Children_dependency'].unique()\n"
   ]
  },
  {
   "cell_type": "code",
   "execution_count": null,
   "metadata": {},
   "outputs": [],
   "source": [
    "df_persons_NE_sociodemographics_0_15['Marital_status'].unique()\n"
   ]
  },
  {
   "cell_type": "code",
   "execution_count": null,
   "metadata": {},
   "outputs": [],
   "source": [
    "df_persons_NE_sociodemographics_0_15['Economic_activity'].unique()"
   ]
  },
  {
   "cell_type": "code",
   "execution_count": null,
   "metadata": {},
   "outputs": [],
   "source": [
    "df_persons_NE_sociodemographics_0_15['Occupation'].unique()"
   ]
  },
  {
   "cell_type": "code",
   "execution_count": null,
   "metadata": {},
   "outputs": [],
   "source": [
    "df_persons_NE_sociodemographics_0_15['Income'].unique()"
   ]
  },
  {
   "cell_type": "code",
   "execution_count": null,
   "metadata": {},
   "outputs": [],
   "source": []
  },
  {
   "cell_type": "code",
   "execution_count": null,
   "metadata": {},
   "outputs": [],
   "source": [
    "df_persons_NE_sociodemographics_16_64 = df_persons_NE_sociodemographics.loc[(df_persons_NE_sociodemographics['Age'] >= 16) & (df_persons_NE_sociodemographics['Age'] <= 64)]\n"
   ]
  },
  {
   "cell_type": "code",
   "execution_count": null,
   "metadata": {},
   "outputs": [],
   "source": [
    "df_persons_NE_sociodemographics_16_64['Marital_status'].unique()\n"
   ]
  },
  {
   "cell_type": "code",
   "execution_count": null,
   "metadata": {},
   "outputs": [],
   "source": [
    "df_persons_NE_sociodemographics_16_64['Children_dependency'].unique()\n"
   ]
  },
  {
   "cell_type": "code",
   "execution_count": null,
   "metadata": {},
   "outputs": [],
   "source": [
    "df_persons_NE_sociodemographics_16_64['Economic_activity'].unique()"
   ]
  },
  {
   "cell_type": "code",
   "execution_count": null,
   "metadata": {},
   "outputs": [],
   "source": [
    "df_persons_NE_sociodemographics_16_64['Occupation'].unique()"
   ]
  },
  {
   "cell_type": "code",
   "execution_count": null,
   "metadata": {},
   "outputs": [],
   "source": [
    "df_persons_NE_sociodemographics_16_64['Income'].min()"
   ]
  },
  {
   "cell_type": "code",
   "execution_count": null,
   "metadata": {},
   "outputs": [],
   "source": [
    "df_persons_NE_sociodemographics_16_64['Income'].max()"
   ]
  },
  {
   "cell_type": "code",
   "execution_count": null,
   "metadata": {},
   "outputs": [],
   "source": []
  },
  {
   "cell_type": "code",
   "execution_count": null,
   "metadata": {},
   "outputs": [],
   "source": [
    "df_persons_NE_sociodemographics_65_120 = df_persons_NE_sociodemographics.loc[(df_persons_NE_sociodemographics['Age'] >= 65) & (df_persons_NE_sociodemographics['Age'] <= 120)]\n"
   ]
  },
  {
   "cell_type": "code",
   "execution_count": null,
   "metadata": {},
   "outputs": [],
   "source": [
    "df_persons_NE_sociodemographics_65_120['Marital_status'].unique()\n"
   ]
  },
  {
   "cell_type": "code",
   "execution_count": null,
   "metadata": {},
   "outputs": [],
   "source": [
    "df_persons_NE_sociodemographics_65_120['Children_dependency'].unique()\n"
   ]
  },
  {
   "cell_type": "code",
   "execution_count": null,
   "metadata": {},
   "outputs": [],
   "source": [
    "df_persons_NE_sociodemographics_65_120['Economic_activity'].unique()\n"
   ]
  },
  {
   "cell_type": "code",
   "execution_count": null,
   "metadata": {},
   "outputs": [],
   "source": [
    "df_persons_NE_sociodemographics_65_120['Occupation'].unique()\n"
   ]
  },
  {
   "cell_type": "code",
   "execution_count": null,
   "metadata": {},
   "outputs": [],
   "source": [
    "df_persons_NE_sociodemographics_65_120['Income'].min()\n"
   ]
  },
  {
   "cell_type": "code",
   "execution_count": null,
   "metadata": {},
   "outputs": [],
   "source": [
    "df_persons_NE_sociodemographics_65_120['Income'].max()\n"
   ]
  },
  {
   "cell_type": "code",
   "execution_count": null,
   "metadata": {},
   "outputs": [],
   "source": [
    "df_persons_NE_sociodemographics.dtypes"
   ]
  },
  {
   "cell_type": "code",
   "execution_count": null,
   "metadata": {},
   "outputs": [],
   "source": [
    "## Select the columns to be kept:"
   ]
  },
  {
   "cell_type": "code",
   "execution_count": null,
   "metadata": {},
   "outputs": [],
   "source": [
    "column_list= ['PID', 'PID_AreaMSOA', 'HID_x', 'HID_AreaOA_x', 'Area_MSOA_x', 'Area_OA_x', 'HRPID_AreaMSOA',\n",
    "              'Sex', 'Age', 'Ethnic', 'Marital_status', 'Children_dependency', 'Adult_Similar_age',\n",
    "              'Total_People_in_household', 'Total_Children_in_household', 'Same_ethnic',\n",
    "              'Economic_activity', 'Occupation', 'Income',\n",
    "              'LC4202_C_CARSNO_x', 'LC4202_C_ETHHUK11_x', 'LC4404_C_SIZHUK11_x', 'LC4408_C_AHTHUK11_x',\n",
    "              'QS420_CELL_x']"
   ]
  },
  {
   "cell_type": "code",
   "execution_count": null,
   "metadata": {},
   "outputs": [],
   "source": [
    "# Create a new dataframe with only the selected columns"
   ]
  },
  {
   "cell_type": "code",
   "execution_count": null,
   "metadata": {},
   "outputs": [],
   "source": [
    "df_persons_NE_sociodemographics_clean = df_persons_NE_sociodemographics[['PID', 'PID_AreaMSOA', 'HID_x', 'HID_AreaOA_x', 'Area_MSOA_x', 'Area_OA_x', 'HRPID_AreaMSOA',\n",
    "              'Sex', 'Age', 'Ethnic', 'Marital_status', 'Children_dependency', 'Adult_Similar_age',\n",
    "              'Total_People_in_household', 'Total_Children_in_household', 'Same_ethnic',\n",
    "              'Economic_activity', 'Occupation', 'Income',\n",
    "              'LC4202_C_CARSNO_x', 'LC4202_C_ETHHUK11_x', 'LC4404_C_SIZHUK11_x', 'LC4408_C_AHTHUK11_x',\n",
    "              'QS420_CELL_x']]"
   ]
  },
  {
   "cell_type": "code",
   "execution_count": null,
   "metadata": {},
   "outputs": [],
   "source": [
    "len(df_persons_NE_sociodemographics_clean)"
   ]
  },
  {
   "cell_type": "code",
   "execution_count": null,
   "metadata": {},
   "outputs": [],
   "source": [
    "df_persons_NE_sociodemographics_clean.dtypes"
   ]
  },
  {
   "cell_type": "code",
   "execution_count": null,
   "metadata": {},
   "outputs": [],
   "source": [
    "## Read the mobility attributes (driving licence, car acess and bike access)"
   ]
  },
  {
   "cell_type": "code",
   "execution_count": null,
   "metadata": {},
   "outputs": [],
   "source": [
    "# Bike access:\n",
    "df_persons_NE_bike_dir = '/home/manon/Documents/Leeds/RAIM/code/RAIM/data/westmidlands/synthetic_pop_SPENSER/'+year+'/NE_only/' # use your path\n",
    "df_persons_NE_bike_file = os.path.join(df_persons_NE_bike_dir, \"df_persons_NE_bike_updated.csv\")\n",
    "df_persons_NE_bike = pd.read_csv(df_persons_NE_bike_file, index_col=None, header=0)"
   ]
  },
  {
   "cell_type": "code",
   "execution_count": null,
   "metadata": {},
   "outputs": [],
   "source": [
    "len(df_persons_NE_bike)"
   ]
  },
  {
   "cell_type": "code",
   "execution_count": null,
   "metadata": {},
   "outputs": [],
   "source": [
    "df_persons_NE_bike.dtypes"
   ]
  },
  {
   "cell_type": "code",
   "execution_count": null,
   "metadata": {},
   "outputs": [],
   "source": [
    "# Car access (driving licence is included in this file)\n",
    "df_persons_NE_car_access_dir = '/home/manon/Documents/Leeds/RAIM/code/RAIM/data/westmidlands/synthetic_pop_SPENSER/'+year+'/NE_only/' # use your path\n",
    "df_persons_NE_car_access_file = os.path.join(df_persons_NE_car_access_dir, \"df_persons_NE_car_access_20222306_correct.csv\")\n",
    "df_persons_NE_car_access = pd.read_csv(df_persons_NE_car_access_file, index_col=None, header=0)\n"
   ]
  },
  {
   "cell_type": "code",
   "execution_count": null,
   "metadata": {},
   "outputs": [],
   "source": [
    "len(df_persons_NE_car_access)"
   ]
  },
  {
   "cell_type": "code",
   "execution_count": null,
   "metadata": {},
   "outputs": [],
   "source": [
    "df_persons_NE_car_access.dtypes"
   ]
  },
  {
   "cell_type": "code",
   "execution_count": null,
   "metadata": {},
   "outputs": [],
   "source": [
    "#Join df_households_NE with df_MSOA_OA_2011_NE_list in order to get MSOA level within \n",
    "#df_households_NE and then pass the Area_OA to df_persons_NE based on the MSOA level value\n",
    "df_persons_NE_mobility = df_persons_NE_car_access.merge(df_persons_NE_bike, left_on='PID_AreaMSOA', right_on='PID_AreaMSOA', how='left')"
   ]
  },
  {
   "cell_type": "code",
   "execution_count": null,
   "metadata": {},
   "outputs": [],
   "source": [
    "len(df_persons_NE_mobility)"
   ]
  },
  {
   "cell_type": "code",
   "execution_count": null,
   "metadata": {},
   "outputs": [],
   "source": [
    "df_persons_NE_mobility.dtypes"
   ]
  },
  {
   "cell_type": "code",
   "execution_count": null,
   "metadata": {},
   "outputs": [],
   "source": [
    "df_persons_NE_mobility_clean = df_persons_NE_mobility[['PID_AreaMSOA', 'Driving_license', 'Car_access', 'Bike_access','Age_x']]"
   ]
  },
  {
   "cell_type": "code",
   "execution_count": null,
   "metadata": {},
   "outputs": [],
   "source": [
    "df_persons_NE_mobility_clean.dtypes"
   ]
  },
  {
   "cell_type": "code",
   "execution_count": null,
   "metadata": {},
   "outputs": [],
   "source": [
    "df_persons_NE_mobility_clean_0_15 = df_persons_NE_mobility_clean.loc[(df_persons_NE_mobility_clean['Age_x'] < 16)]\n"
   ]
  },
  {
   "cell_type": "code",
   "execution_count": null,
   "metadata": {},
   "outputs": [],
   "source": [
    "df_persons_NE_mobility_clean_0_15['Driving_license'].unique()\n"
   ]
  },
  {
   "cell_type": "code",
   "execution_count": null,
   "metadata": {},
   "outputs": [],
   "source": [
    "df_persons_NE_mobility_clean_0_15['Car_access'].unique()\n"
   ]
  },
  {
   "cell_type": "code",
   "execution_count": null,
   "metadata": {},
   "outputs": [],
   "source": [
    "df_persons_NE_mobility_clean_0_15['Bike_access'].unique()\n"
   ]
  },
  {
   "cell_type": "code",
   "execution_count": null,
   "metadata": {},
   "outputs": [],
   "source": [
    "df_persons_NE_mobility_clean_16_64 = df_persons_NE_mobility_clean.loc[(df_persons_NE_mobility_clean['Age_x'] >= 16) & (df_persons_NE_mobility_clean['Age_x'] <= 64)]\n"
   ]
  },
  {
   "cell_type": "code",
   "execution_count": null,
   "metadata": {},
   "outputs": [],
   "source": [
    "df_persons_NE_mobility_clean_16_64['Driving_license'].unique()\n"
   ]
  },
  {
   "cell_type": "code",
   "execution_count": null,
   "metadata": {},
   "outputs": [],
   "source": [
    "df_persons_NE_mobility_clean_16_64['Car_access'].unique()"
   ]
  },
  {
   "cell_type": "code",
   "execution_count": null,
   "metadata": {},
   "outputs": [],
   "source": [
    "df_persons_NE_mobility_clean_16_64['Bike_access'].unique()"
   ]
  },
  {
   "cell_type": "code",
   "execution_count": null,
   "metadata": {},
   "outputs": [],
   "source": [
    "df_persons_NE_mobility_clean_65plus = df_persons_NE_mobility_clean.loc[(df_persons_NE_mobility_clean['Age_x'] >= 65) & (df_persons_NE_mobility_clean['Age_x'] <= 120)]\n"
   ]
  },
  {
   "cell_type": "code",
   "execution_count": null,
   "metadata": {},
   "outputs": [],
   "source": [
    "df_persons_NE_mobility_clean_65plus['Driving_license'].unique()\n"
   ]
  },
  {
   "cell_type": "code",
   "execution_count": null,
   "metadata": {},
   "outputs": [],
   "source": [
    "df_persons_NE_mobility_clean_65plus['Car_access'].unique()\n"
   ]
  },
  {
   "cell_type": "code",
   "execution_count": null,
   "metadata": {},
   "outputs": [],
   "source": [
    "df_persons_NE_mobility_clean_65plus['Bike_access'].unique()\n"
   ]
  },
  {
   "cell_type": "code",
   "execution_count": null,
   "metadata": {},
   "outputs": [],
   "source": [
    "# Save dataframe\n",
    "df_persons_NE_mobility_20220309 = df_persons_NE_mobility_clean\n",
    "df_persons_NE_mobility_20220309.to_csv('/home/manon/Documents/Leeds/RAIM/code/RAIM/data/westmidlands/synthetic_pop_SPENSER/'+year+'/NE_only/df_persons_NE_mobility.csv', encoding='utf-8', header=True)\n"
   ]
  },
  {
   "cell_type": "code",
   "execution_count": null,
   "metadata": {},
   "outputs": [],
   "source": [
    "len(df_persons_NE_mobility_20220309)"
   ]
  },
  {
   "cell_type": "code",
   "execution_count": null,
   "metadata": {},
   "outputs": [],
   "source": []
  },
  {
   "cell_type": "code",
   "execution_count": null,
   "metadata": {},
   "outputs": [],
   "source": [
    "#Join df_households_NE with df_MSOA_OA_2011_NE_list in order to get MSOA level within \n",
    "#df_households_NE and then pass the Area_OA to df_persons_NE based on the MSOA level value\n",
    "df_persons_NE_sociodemographics_mobility = df_persons_NE_sociodemographics_clean.merge(df_persons_NE_mobility_clean, left_on='PID_AreaMSOA', right_on='PID_AreaMSOA', how='left')"
   ]
  },
  {
   "cell_type": "code",
   "execution_count": null,
   "metadata": {},
   "outputs": [],
   "source": [
    "len(df_persons_NE_sociodemographics_mobility)"
   ]
  },
  {
   "cell_type": "code",
   "execution_count": null,
   "metadata": {},
   "outputs": [],
   "source": [
    "# Check if there are duplicates:\n",
    "df_persons_NE_sociodemographics_mobility_1 = df_persons_NE_sociodemographics_mobility\n",
    "\n",
    "# Remove duplicates\n",
    "df_persons_NE_sociodemographics_mobility_1 = df_persons_NE_sociodemographics_mobility_1.drop_duplicates(subset='PID_AreaMSOA',keep = False)\n",
    "\n",
    "\n",
    "len(df_persons_NE_sociodemographics_mobility_1)"
   ]
  },
  {
   "cell_type": "code",
   "execution_count": null,
   "metadata": {},
   "outputs": [],
   "source": [
    "df_persons_NE_sociodemographics_mobility.dtypes"
   ]
  },
  {
   "cell_type": "code",
   "execution_count": null,
   "metadata": {},
   "outputs": [],
   "source": [
    "df_persons_NE_sociodemographics_mobility_clean = df_persons_NE_sociodemographics_mobility[['PID', 'PID_AreaMSOA', 'HID_x', 'HID_AreaOA_x', 'Area_MSOA_x', 'Area_OA_x', 'HRPID_AreaMSOA',\n",
    "              'Sex', 'Age', 'Ethnic', 'Marital_status', 'Children_dependency', 'Adult_Similar_age',\n",
    "              'Total_People_in_household', 'Total_Children_in_household', 'Same_ethnic',\n",
    "              'Economic_activity', 'Occupation', 'Income', 'Driving_license', 'Car_access', 'Bike_access',\n",
    "              'LC4202_C_CARSNO_x', 'LC4202_C_ETHHUK11_x', 'LC4404_C_SIZHUK11_x', 'LC4408_C_AHTHUK11_x',\n",
    "              'QS420_CELL_x']]"
   ]
  },
  {
   "cell_type": "code",
   "execution_count": null,
   "metadata": {},
   "outputs": [],
   "source": [
    "df_persons_NE_sociodemographics_mobility_clean.dtypes"
   ]
  },
  {
   "cell_type": "code",
   "execution_count": null,
   "metadata": {},
   "outputs": [],
   "source": [
    "# Check if there are duplicates:\n",
    "df_persons_NE_sociodemographics_mobility_clean_1 = df_persons_NE_sociodemographics_mobility_clean\n",
    "\n",
    "# Remove duplicates\n",
    "df_persons_NE_sociodemographics_mobility_clean_1 = df_persons_NE_sociodemographics_mobility_clean_1.drop_duplicates(subset='PID_AreaMSOA',keep = False)\n",
    "\n",
    "\n",
    "len(df_persons_NE_sociodemographics_mobility_clean_1)"
   ]
  },
  {
   "cell_type": "code",
   "execution_count": null,
   "metadata": {},
   "outputs": [],
   "source": [
    "df_persons_NE_sociodemographics_mobility_clean.dtypes"
   ]
  },
  {
   "cell_type": "code",
   "execution_count": null,
   "metadata": {},
   "outputs": [],
   "source": [
    "#Rename the column names of 'df_persons_NE'\n",
    "df_persons_NE_sociodemographics_mobility_clean = df_persons_NE_sociodemographics_mobility_clean.rename({'HID_AreaOA_x': 'HID_AreaOA',\n",
    "                                                                       'HID_x': 'HID', \n",
    "                                                                       'Area_MSOA_x': 'Area_MSOA', \n",
    "                                                                       'Area_OA_x': 'Area_OA',\n",
    "                                                                      'HRPID_AreaMSOA_x': 'HRPID_AreaMSOA',\n",
    "                                                                      'LC4202_C_CARSNO_x': 'LC4202_C_CARSNO',\n",
    "                                                                      'LC4202_C_ETHHUK11_x': 'LC4202_C_ETHHUK11',\n",
    "                                                                      'LC4404_C_SIZHUK11_x': 'LC4404_C_SIZHUK11',\n",
    "                                                                      'LC4408_C_AHTHUK11_x': 'LC4408_C_AHTHUK11'}, axis=1)\n",
    "\n"
   ]
  },
  {
   "cell_type": "code",
   "execution_count": null,
   "metadata": {},
   "outputs": [],
   "source": [
    "df_persons_NE_sociodemographics_mobility_clean.dtypes"
   ]
  },
  {
   "cell_type": "code",
   "execution_count": null,
   "metadata": {},
   "outputs": [],
   "source": []
  },
  {
   "cell_type": "code",
   "execution_count": null,
   "metadata": {},
   "outputs": [],
   "source": [
    "# Save dataframe\n",
    "df_persons_NE_sociodemographics_mobility_clean_export_20220309_correct = df_persons_NE_sociodemographics_mobility_clean\n",
    "df_persons_NE_sociodemographics_mobility_clean_export_20220309_correct.to_csv('/home/manon/Documents/Leeds/RAIM/code/RAIM/data/westmidlands/synthetic_pop_SPENSER/'+year+'/NE_only/df_persons_NE_sociodemographics_mobility_clean_correct.csv', encoding='utf-8', header=True)\n"
   ]
  },
  {
   "cell_type": "code",
   "execution_count": null,
   "metadata": {},
   "outputs": [],
   "source": [
    "len(df_persons_NE_sociodemographics_mobility_clean_export_20220309_correct)"
   ]
  },
  {
   "cell_type": "code",
   "execution_count": null,
   "metadata": {},
   "outputs": [],
   "source": [
    "# Check if there are duplicates:\n",
    "df_persons_NE_sociodemographics_mobility_clean_export_20220309_correct_1 = df_persons_NE_sociodemographics_mobility_clean_export_20220309_correct\n",
    "\n",
    "# Remove duplicates\n",
    "df_persons_NE_sociodemographics_mobility_clean_export_20220309_correct_1 = df_persons_NE_sociodemographics_mobility_clean_export_20220309_correct_1.drop_duplicates(subset='PID_AreaMSOA',keep = False)\n",
    "\n",
    "\n",
    "len(df_persons_NE_sociodemographics_mobility_clean_export_20220309_correct_1)"
   ]
  },
  {
   "cell_type": "code",
   "execution_count": null,
   "metadata": {},
   "outputs": [],
   "source": [
    "len(df_persons_NE_sociodemographics_mobility_clean_export_20220309_correct)"
   ]
  }
 ],
 "metadata": {
  "kernelspec": {
   "display_name": "Python 3 (ipykernel)",
   "language": "python",
   "name": "python3"
  },
  "language_info": {
   "codemirror_mode": {
    "name": "ipython",
    "version": 3
   },
   "file_extension": ".py",
   "mimetype": "text/x-python",
   "name": "python",
   "nbconvert_exporter": "python",
   "pygments_lexer": "ipython3",
   "version": "3.8.10"
  }
 },
 "nbformat": 4,
 "nbformat_minor": 2
}
