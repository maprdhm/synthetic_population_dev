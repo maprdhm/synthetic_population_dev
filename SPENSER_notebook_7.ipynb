{
 "cells": [
  {
   "cell_type": "code",
   "execution_count": null,
   "id": "41e1fe99",
   "metadata": {},
   "outputs": [],
   "source": [
    "import glob\n",
    "import pandas as pd\n",
    "import numpy as np\n",
    "import os\n",
    "import csv\n",
    "import sys\n",
    "import random\n",
    "\n",
    "year = '2022'"
   ]
  },
  {
   "cell_type": "code",
   "execution_count": null,
   "id": "a4d623ee",
   "metadata": {},
   "outputs": [],
   "source": [
    "#Read CSV file containing the people assigned an occupation (9 categories)\n",
    "## CSV obtained after running spensr_notebook_5\n",
    "df_persons_NE_occupation_dir = '/home/manon/Documents/Leeds/RAIM/code/RAIM/data/westmidlands/synthetic_pop_SPENSER/'+year+'/NE_only' # use your path\n",
    "df_persons_NE_occupation_file = os.path.join(df_persons_NE_occupation_dir, \"df_after_occupation.csv\")\n",
    "df_persons_NE_occupation = pd.read_csv(df_persons_NE_occupation_file, index_col=None, header=0)"
   ]
  },
  {
   "cell_type": "code",
   "execution_count": null,
   "id": "0c01ceb7",
   "metadata": {},
   "outputs": [],
   "source": [
    "# Create a new column for the Occupation\n",
    "df_persons_NE_occupation['Income'] = np.nan"
   ]
  },
  {
   "cell_type": "markdown",
   "id": "2aae39ba",
   "metadata": {},
   "source": [
    "## Start calculating the income per occupation type"
   ]
  },
  {
   "cell_type": "markdown",
   "id": "ecd8c676",
   "metadata": {},
   "source": [
    "### Occupation 2:"
   ]
  },
  {
   "cell_type": "code",
   "execution_count": null,
   "id": "57446555",
   "metadata": {},
   "outputs": [],
   "source": [
    "## Income data\n",
    "\n",
    "# Source: ONS\n",
    "## Dataset: Earnings and hours worked, region by occupation by two-digit SOC: ASHE Table 3\n",
    "## Link: https://www.ons.gov.uk/employmentandlabourmarket/peopleinwork/earningsandworkinghours/datasets/regionbyoccupation2digitsocashetable3\n",
    "## Year: 2021 revised edition of this dataset\n",
    "## File downloaded: table32021revised.zip\n",
    "## Table: Work Region Occupation SOC10 (2) Table 3.7a   Annual pay - Gross 2021.xls\n",
    "\n",
    "\n",
    "# Select estimated min and max income values based on the percentile values given in previous source.\n",
    "## These values are related to a specific region of England (in this case, West Midlands)\n",
    "occupation_2_income = [18824,60531]\n",
    "\n",
    "##########################################################################################\n",
    "\n",
    "## Dataset: Earnings and hours worked, region by occupation by two-digit SOC: ASHE Table 15\n",
    "## Link: https://www.ons.gov.uk/employmentandlabourmarket/peopleinwork/earningsandworkinghours/datasets/regionbyoccupation4digitsoc2010ashetable15\n",
    "## Year: 2021 revised edition of this dataset\n",
    "## File downloaded: table152021revised.zip\n",
    "## Table: Work Region Occupation SOC10 (4) Table 15.12  Gender pay gap 2021.xls\n",
    "\n",
    "#### Gender pay gap per occupation type (MEAN value) WM values\n",
    "occupation_2_gap = 0.108\n",
    "\n",
    "##########################################################################################\n",
    "##########################################################################################\n",
    "\n",
    "## code developed:\n",
    "\n",
    "# Name all occupation types to loop through them in the code:\n",
    "occupations = [2]\n",
    "\n",
    "\n",
    "for occupation in occupations:\n",
    "\n",
    "    \n",
    "    #Select the people of the df_occupation that is related to the selected OA area:\n",
    "    (globals()[f\"df_occupation_{occupation}\"]) = df_persons_NE_occupation.loc[(df_persons_NE_occupation['Occupation'] == occupation)]\n",
    "    \n",
    "    # Select the Min and Max income values of each occupation category:\n",
    "    occupation_income = (globals()[f\"occupation_{occupation}_income\"])\n",
    "    \n",
    "    \n",
    "    # Calculate the income age slot\n",
    "    ## this value will indicate the range in which agents will be assigned the income based on their age\n",
    "    income_age_width_slot = (occupation_income[1] - occupation_income[0])/ 10\n",
    "    \n",
    "    \n",
    "    ## Do the calculus just agent by agent\n",
    "    for idx_person, person in (globals()[f\"df_occupation_{occupation}\"]).iterrows():\n",
    "        \n",
    "        # Identify the slot of income based on the age (UK values)\n",
    "        ## An estimated range of income was guessed for each person based on their ages.\n",
    "        ## The estimated income by age was identified from: ONS\n",
    "        ### Earnings and hours worked, age group: ASHE Table 6\n",
    "        ### Link: https://www.ons.gov.uk/employmentandlabourmarket/peopleinwork/earningsandworkinghours/datasets/agegroupashetable6\n",
    "        ## Year: 2021 revised edition of this dataset\n",
    "        ## File downloaded: table62021revised.zip\n",
    "        ### Table: Age Group Table 6.7a   Annual pay - Gross 2021.xls\n",
    "        #### Agents aged 40-49 will earn more than any other, then agents aged 30-39, then 50-59, then 25-29, then 22-29, then 60+, then 18-21 and finally 16-17\n",
    "                            \n",
    "        \n",
    "        # Define the income range based on the age\n",
    "        if (person['Age'] <= 17):\n",
    "            income_min = occupation_income[0] - (occupation_income[0]/1.1)\n",
    "            income_max = occupation_income[0] - (occupation_income[0]/3)\n",
    "        elif (person['Age'] > 17 and person['Age'] <= 21):\n",
    "            income_min = occupation_income[0] - 2*income_age_width_slot\n",
    "            income_max = occupation_income[0] + 0.15 * income_age_width_slot    \n",
    "        elif (person['Age'] > 21 and person['Age'] < 30):\n",
    "            income_min = occupation_income[0] - (income_age_width_slot/3)\n",
    "            income_max = occupation_income[0] + 2 * income_age_width_slot\n",
    "        elif (person['Age'] >= 30 and person['Age'] < 40):\n",
    "            income_min = occupation_income[0] + 2.5 * income_age_width_slot\n",
    "            income_max = occupation_income[0] + 7 * income_age_width_slot\n",
    "        elif (person['Age'] >= 40 and person['Age'] < 50):\n",
    "            income_min = occupation_income[0] + 5.5 * income_age_width_slot\n",
    "            income_max = occupation_income[0] + 14 * income_age_width_slot \n",
    "        elif (person['Age'] >= 50 and person['Age'] < 60):\n",
    "            income_min = occupation_income[0] + 2.5 * income_age_width_slot\n",
    "            income_max = occupation_income[0] + 8 * income_age_width_slot\n",
    "        elif (person['Age'] >= 60):\n",
    "            income_min = occupation_income[0]\n",
    "            income_max = occupation_income[0] + 4 * income_age_width_slot\n",
    "\n",
    "            \n",
    "        # Value identified as the income value of the person based on the occupation type and age range\n",
    "        income_selected_by_occupation_age = random.randint(int(income_min), int(income_max))\n",
    "        \n",
    "     \n",
    "        # Incorporate the gender gap\n",
    "        ## If male, then increase the income half of the gender income gap\n",
    "        ## If female, decrease the income half of the gender income gap\n",
    "        if (person['Sex'] == 1):   # Male\n",
    "            income_selected_by_occupation_age_sex = income_selected_by_occupation_age + (income_selected_by_occupation_age * (globals()[f\"occupation_{occupation}_gap\"])/2)\n",
    "        else:\n",
    "            income_selected_by_occupation_age_sex = income_selected_by_occupation_age - (income_selected_by_occupation_age * (globals()[f\"occupation_{occupation}_gap\"])/2)\n",
    "        \n",
    "                       \n",
    "        # Transform the income value into an integer and round it to the 10 closest value\n",
    "        income_chosen = int(income_selected_by_occupation_age_sex)\n",
    "        income_round = round(income_chosen,-1)\n",
    "        \n",
    "        # Update the value in the column \"Income\"\n",
    "        (globals()[f\"df_occupation_{occupation}\"]).at[idx_person,'Income'] = income_round\n",
    "        \n",
    "\n",
    "print('Job done. check the results')\n"
   ]
  },
  {
   "cell_type": "code",
   "execution_count": null,
   "id": "1b87ff3a",
   "metadata": {},
   "outputs": [],
   "source": [
    "# Calculate min, max, mean and median values:\n",
    "\n",
    "column = df_occupation_2[\"Income\"]\n",
    "min_value = column.min()\n",
    "max_value = column.max()\n",
    "mean_value = column.mean()\n",
    "median_value = column.median()\n",
    "\n",
    "print(min_value)\n",
    "print(max_value)\n",
    "print(mean_value)\n",
    "print(median_value)"
   ]
  },
  {
   "cell_type": "code",
   "execution_count": null,
   "id": "947b3db6",
   "metadata": {},
   "outputs": [],
   "source": [
    "# Differences from the mean\n",
    "39030 - mean_value"
   ]
  },
  {
   "cell_type": "code",
   "execution_count": null,
   "id": "e5083cb2",
   "metadata": {},
   "outputs": [],
   "source": [
    "# Differences from the median\n",
    "36755 - median_value"
   ]
  },
  {
   "cell_type": "code",
   "execution_count": null,
   "id": "65316c6c",
   "metadata": {},
   "outputs": [],
   "source": [
    "# histogram of the income for occupation 2:\n",
    "\n",
    "df_occupation_2.hist(column='Income', bins=50);"
   ]
  },
  {
   "cell_type": "code",
   "execution_count": null,
   "id": "a0c7c915",
   "metadata": {
    "scrolled": true
   },
   "outputs": [],
   "source": [
    "# calculate the differences between observed (ONS) and calculated percentiles for occupation 2:\n",
    "\n",
    "print(18824 - df_occupation_2.Income.quantile(0.1))\n",
    "print(24962 - df_occupation_2.Income.quantile(0.2))\n",
    "print(29521- df_occupation_2.Income.quantile(0.3))\n",
    "print(32815 - df_occupation_2.Income.quantile(0.4))\n",
    "print(40224 - df_occupation_2.Income.quantile(0.6))\n",
    "print(44272 - df_occupation_2.Income.quantile(0.7))\n",
    "print(50396 - df_occupation_2.Income.quantile(0.8))\n",
    "print(60531 - df_occupation_2.Income.quantile(0.9))"
   ]
  },
  {
   "cell_type": "markdown",
   "id": "5fb7212b",
   "metadata": {},
   "source": [
    "##### Check the order of the median income per range of age"
   ]
  },
  {
   "cell_type": "code",
   "execution_count": null,
   "id": "4ffc47a4",
   "metadata": {},
   "outputs": [],
   "source": [
    "df_income_16_17_occupation_2 = df_occupation_2.loc[(df_occupation_2['Age'] >=16) & (df_occupation_2['Age'] <=17)]\n",
    "\n",
    "df_income_16_17_occupation_2[\"Income\"].median()"
   ]
  },
  {
   "cell_type": "code",
   "execution_count": null,
   "id": "b84e26fc",
   "metadata": {},
   "outputs": [],
   "source": [
    "df_income_18_21_occupation_2 = df_occupation_2.loc[(df_occupation_2['Age'] >=18) & (df_occupation_2['Age'] <=21)]\n",
    "\n",
    "df_income_18_21_occupation_2[\"Income\"].median()"
   ]
  },
  {
   "cell_type": "code",
   "execution_count": null,
   "id": "e27cc2bc",
   "metadata": {},
   "outputs": [],
   "source": [
    "df_income_22_29_occupation_2 = df_occupation_2.loc[(df_occupation_2['Age'] >=22) & (df_occupation_2['Age'] <=29)]\n",
    "\n",
    "df_income_22_29_occupation_2[\"Income\"].median()"
   ]
  },
  {
   "cell_type": "code",
   "execution_count": null,
   "id": "e2f257bf",
   "metadata": {},
   "outputs": [],
   "source": [
    "df_income_30_39_occupation_2 = df_occupation_2.loc[(df_occupation_2['Age'] >=30) & (df_occupation_2['Age'] <=39)]\n",
    "\n",
    "df_income_30_39_occupation_2[\"Income\"].median()"
   ]
  },
  {
   "cell_type": "code",
   "execution_count": null,
   "id": "0cd6a9ee",
   "metadata": {},
   "outputs": [],
   "source": [
    "df_income_40_49_occupation_2 = df_occupation_2.loc[(df_occupation_2['Age'] >=40) & (df_occupation_2['Age'] <=49)]\n",
    "\n",
    "df_income_40_49_occupation_2[\"Income\"].median()"
   ]
  },
  {
   "cell_type": "code",
   "execution_count": null,
   "id": "964a51cc",
   "metadata": {},
   "outputs": [],
   "source": [
    "df_income_50_59_occupation_2 = df_occupation_2.loc[(df_occupation_2['Age'] >=50) & (df_occupation_2['Age'] <=59)]\n",
    "\n",
    "df_income_50_59_occupation_2[\"Income\"].median()"
   ]
  },
  {
   "cell_type": "code",
   "execution_count": null,
   "id": "df22901b",
   "metadata": {},
   "outputs": [],
   "source": [
    "df_income_60_120_occupation_2 = df_occupation_2.loc[(df_occupation_2['Age'] >=60)]\n",
    "\n",
    "df_income_60_120_occupation_2[\"Income\"].median()"
   ]
  },
  {
   "cell_type": "code",
   "execution_count": null,
   "id": "22ae6e9a",
   "metadata": {},
   "outputs": [],
   "source": [
    "# Export data as csv file:\n",
    "df_occupation_2_saved = df_occupation_2\n",
    "\n",
    "df_occupation_2.to_csv('/home/manon/Documents/Leeds/RAIM/code/RAIM/data/westmidlands/synthetic_pop_SPENSER/'+year+'/NE_only/df_occupation_2.csv', encoding='utf-8', header=True)\n"
   ]
  },
  {
   "cell_type": "markdown",
   "id": "510ec7d5",
   "metadata": {},
   "source": [
    "### Occupation 3"
   ]
  },
  {
   "cell_type": "code",
   "execution_count": null,
   "id": "d16b3b80",
   "metadata": {},
   "outputs": [],
   "source": [
    "## Income data\n",
    "\n",
    "# Source: ONS\n",
    "## Dataset: Earnings and hours worked, region by occupation by two-digit SOC: ASHE Table 3\n",
    "## Link: https://www.ons.gov.uk/employmentandlabourmarket/peopleinwork/earningsandworkinghours/datasets/regionbyoccupation2digitsocashetable3\n",
    "## Year: 2021 revised edition of this dataset\n",
    "## File downloaded: table32021revised.zip\n",
    "## Table: Work Region Occupation SOC10 (2) Table 3.7a   Annual pay - Gross 2021.xls\n",
    "\n",
    "\n",
    "# Select estimated min and max income values based on the percentile values given in previous source.\n",
    "## These values are related to a specific region of England (in this case, WM)\n",
    "occupation_3_income = [17043,52082]\n",
    "\n",
    "##########################################################################################\n",
    "\n",
    "## Dataset: Earnings and hours worked, region by occupation by two-digit SOC: ASHE Table 15\n",
    "## Link: https://www.ons.gov.uk/employmentandlabourmarket/peopleinwork/earningsandworkinghours/datasets/regionbyoccupation4digitsoc2010ashetable15\n",
    "## Year: 2021 revised edition of this dataset\n",
    "## File downloaded: table152021revised.zip\n",
    "## Table: Work Region Occupation SOC10 (4) Table 15.12  Gender pay gap 2021.xls\n",
    "\n",
    "#### Gender pay gap per occupation type (MEAN value) WM values\n",
    "occupation_3_gap = 0.272\n",
    "\n",
    "##########################################################################################\n",
    "##########################################################################################\n",
    "\n",
    "## code developed:\n",
    "\n",
    "# Name all occupation types to loop through them in the code:\n",
    "occupations = [3]\n",
    "\n",
    "\n",
    "for occupation in occupations:\n",
    "\n",
    "    \n",
    "    #Select the people of the df_occupation that is related to the selected OA area:\n",
    "    (globals()[f\"df_occupation_{occupation}\"]) = df_persons_NE_occupation.loc[(df_persons_NE_occupation['Occupation'] == occupation)]\n",
    "    \n",
    "    # Select the Min and Max income values of each occupation category:\n",
    "    occupation_income = (globals()[f\"occupation_{occupation}_income\"])\n",
    "    \n",
    "    \n",
    "    # Calculate the income age slot\n",
    "    ## this value will indicate the range in which agents will be assigned the income based on their age\n",
    "    income_age_width_slot = (occupation_income[1] - occupation_income[0])/ 10\n",
    "    \n",
    "    \n",
    "    ## Do the calculus just agent by agent\n",
    "    for idx_person, person in (globals()[f\"df_occupation_{occupation}\"]).iterrows():\n",
    "        \n",
    "        # Identify the slot of income based on the age (UK values)\n",
    "        ## An estimated range of income was guessed for each person based on their ages.\n",
    "        ## The estimated income by age was identified from: ONS\n",
    "        ### Earnings and hours worked, age group: ASHE Table 6\n",
    "        ### Link: https://www.ons.gov.uk/employmentandlabourmarket/peopleinwork/earningsandworkinghours/datasets/agegroupashetable6\n",
    "        ## Year: 2021 revised edition of this dataset\n",
    "        ## File downloaded: table62021revised.zip\n",
    "        ### Table: Age Group Table 6.7a   Annual pay - Gross 2021.xls\n",
    "        #### Agents aged 40-49 will earn more than any other, then agents aged 30-39, then 50-59, then 25-29, then 22-29, then 60+, then 18-21 and finally 16-17\n",
    "                    \n",
    "        \n",
    "        # Define the income range based on the age\n",
    "        if (person['Age'] <= 17):\n",
    "            income_min = occupation_income[0] - (occupation_income[0]/2)\n",
    "            income_max = occupation_income[0] - (occupation_income[0]/3)\n",
    "        elif (person['Age'] > 17 and person['Age'] <= 21):\n",
    "            income_min = occupation_income[0] - income_age_width_slot\n",
    "            income_max = occupation_income[0] + 0.2 * income_age_width_slot    \n",
    "        elif (person['Age'] > 21 and person['Age'] < 30):\n",
    "            income_min = occupation_income[0] - (income_age_width_slot/3)\n",
    "            income_max = occupation_income[0] + 4.5 * income_age_width_slot\n",
    "        elif (person['Age'] >= 30 and person['Age'] < 40):\n",
    "            income_min = occupation_income[0] + 1.5 * income_age_width_slot\n",
    "            income_max = occupation_income[0] + 6.75 * income_age_width_slot\n",
    "        elif (person['Age'] >= 40 and person['Age'] < 50):\n",
    "            income_min = occupation_income[0] + 6 * income_age_width_slot\n",
    "            income_max = occupation_income[0] + 11 * income_age_width_slot \n",
    "        elif (person['Age'] >= 50 and person['Age'] < 60):\n",
    "            income_min = occupation_income[0] + 2 * income_age_width_slot\n",
    "            income_max = occupation_income[0] + 7.25 * income_age_width_slot\n",
    "        elif (person['Age'] >= 60):\n",
    "            income_min = occupation_income[0]\n",
    "            income_max = occupation_income[0] + 3 * income_age_width_slot\n",
    "\n",
    "            \n",
    "        # Value identified as the income value of the person based on the occupation type and age range\n",
    "        income_selected_by_occupation_age = random.randint(int(income_min), int(income_max))\n",
    "        \n",
    "     \n",
    "        # Incorporate the gender gap\n",
    "        ## If male, then increase the income half of the gender income gap\n",
    "        ## If female, decrease the income half of the gender income gap\n",
    "        if (person['Sex'] == 1):   # Male\n",
    "            income_selected_by_occupation_age_sex = income_selected_by_occupation_age + (income_selected_by_occupation_age * (globals()[f\"occupation_{occupation}_gap\"])/2)\n",
    "        else:\n",
    "            income_selected_by_occupation_age_sex = income_selected_by_occupation_age - (income_selected_by_occupation_age * (globals()[f\"occupation_{occupation}_gap\"])/2)\n",
    "        \n",
    "                       \n",
    "        # Transform the income value into an integer and round it to the 10 closest value\n",
    "        income_chosen = int(income_selected_by_occupation_age_sex)\n",
    "        income_round = round(income_chosen,-1)\n",
    "        \n",
    "        # Update the value in the column \"Income\"\n",
    "        (globals()[f\"df_occupation_{occupation}\"]).at[idx_person,'Income'] = income_round\n",
    "        \n",
    "\n",
    "print('Job done. check the results')"
   ]
  },
  {
   "cell_type": "code",
   "execution_count": null,
   "id": "7c672dbf",
   "metadata": {},
   "outputs": [],
   "source": [
    "# Calculate min, max, mean and median values:\n",
    "\n",
    "column = df_occupation_3[\"Income\"]\n",
    "min_value = column.min()\n",
    "max_value = column.max()\n",
    "mean_value = column.mean()\n",
    "median_value = column.median()\n",
    "\n",
    "print(min_value)\n",
    "print(max_value)\n",
    "print(mean_value)\n",
    "print(median_value)"
   ]
  },
  {
   "cell_type": "code",
   "execution_count": null,
   "id": "12dc7eb0",
   "metadata": {},
   "outputs": [],
   "source": [
    "# Differences to the mean value\n",
    "39845 -  mean_value\n"
   ]
  },
  {
   "cell_type": "code",
   "execution_count": null,
   "id": "ab7de7b4",
   "metadata": {},
   "outputs": [],
   "source": [
    "# Differences to the medeian value\n",
    "31061 - median_value"
   ]
  },
  {
   "cell_type": "code",
   "execution_count": null,
   "id": "8ef476ac",
   "metadata": {},
   "outputs": [],
   "source": [
    "# Histogram:\n",
    "df_occupation_3.hist(column='Income', bins=50);"
   ]
  },
  {
   "cell_type": "code",
   "execution_count": null,
   "id": "42974572",
   "metadata": {},
   "outputs": [],
   "source": [
    "# calculate the differences between observed (ONS) and calculated percentiles for occupation 2:\n",
    "\n",
    "print(17043 - df_occupation_3.Income.quantile(0.1))\n",
    "print(21811 - df_occupation_3.Income.quantile(0.2))\n",
    "print(25000- df_occupation_3.Income.quantile(0.3))\n",
    "print(27964 - df_occupation_3.Income.quantile(0.4))\n",
    "#print(27491 - df_occupation_3.Income.quantile(0.5))\n",
    "print(34253 - df_occupation_3.Income.quantile(0.6))\n",
    "print(38854 - df_occupation_3.Income.quantile(0.7))\n",
    "print(44141 - df_occupation_3.Income.quantile(0.8))\n",
    "print(52082 - df_occupation_3.Income.quantile(0.9))\n"
   ]
  },
  {
   "cell_type": "markdown",
   "id": "097696ac",
   "metadata": {},
   "source": [
    "##### Check the order of the median income per range of age"
   ]
  },
  {
   "cell_type": "code",
   "execution_count": null,
   "id": "dc834f9f",
   "metadata": {},
   "outputs": [],
   "source": [
    "df_income_16_17_occupation_3 = df_occupation_3.loc[(df_occupation_3['Age'] >=16) & (df_occupation_3['Age'] <=17)]\n",
    "\n",
    "df_income_16_17_occupation_3[\"Income\"].median()"
   ]
  },
  {
   "cell_type": "code",
   "execution_count": null,
   "id": "850d89d6",
   "metadata": {},
   "outputs": [],
   "source": [
    "df_income_18_21_occupation_3 = df_occupation_3.loc[(df_occupation_3['Age'] >=18) & (df_occupation_3['Age'] <=21)]\n",
    "\n",
    "df_income_18_21_occupation_3[\"Income\"].median()"
   ]
  },
  {
   "cell_type": "code",
   "execution_count": null,
   "id": "2cc662c2",
   "metadata": {},
   "outputs": [],
   "source": [
    "df_income_22_29_occupation_3 = df_occupation_3.loc[(df_occupation_3['Age'] >=22) & (df_occupation_3['Age'] <=29)]\n",
    "\n",
    "df_income_22_29_occupation_3[\"Income\"].median()"
   ]
  },
  {
   "cell_type": "code",
   "execution_count": null,
   "id": "8abe27f6",
   "metadata": {},
   "outputs": [],
   "source": [
    "df_income_30_39_occupation_3 = df_occupation_3.loc[(df_occupation_3['Age'] >=30) & (df_occupation_3['Age'] <=39)]\n",
    "\n",
    "df_income_30_39_occupation_3[\"Income\"].median()"
   ]
  },
  {
   "cell_type": "code",
   "execution_count": null,
   "id": "7fa2dc7a",
   "metadata": {},
   "outputs": [],
   "source": [
    "df_income_40_49_occupation_3 = df_occupation_3.loc[(df_occupation_3['Age'] >=40) & (df_occupation_3['Age'] <=49)]\n",
    "\n",
    "df_income_40_49_occupation_3[\"Income\"].median()"
   ]
  },
  {
   "cell_type": "code",
   "execution_count": null,
   "id": "1b615011",
   "metadata": {},
   "outputs": [],
   "source": [
    "df_income_50_59_occupation_3 = df_occupation_3.loc[(df_occupation_3['Age'] >=50) & (df_occupation_3['Age'] <=59)]\n",
    "\n",
    "df_income_50_59_occupation_3[\"Income\"].median()"
   ]
  },
  {
   "cell_type": "code",
   "execution_count": null,
   "id": "095f18d9",
   "metadata": {},
   "outputs": [],
   "source": [
    "df_income_60_120_occupation_3 = df_occupation_3.loc[(df_occupation_3['Age'] >=60)]\n",
    "\n",
    "df_income_60_120_occupation_3[\"Income\"].median()"
   ]
  },
  {
   "cell_type": "code",
   "execution_count": null,
   "id": "95c6f33c",
   "metadata": {},
   "outputs": [],
   "source": [
    "df_occupation_3_saved = df_occupation_3\n",
    "\n",
    "df_occupation_3_saved.to_csv('/home/manon/Documents/Leeds/RAIM/code/RAIM/data/westmidlands/synthetic_pop_SPENSER/'+year+'/NE_only/df_occupation_3.csv', encoding='utf-8', header=True)\n"
   ]
  },
  {
   "cell_type": "markdown",
   "id": "7ab05e39",
   "metadata": {},
   "source": [
    "### Occupation 5"
   ]
  },
  {
   "cell_type": "code",
   "execution_count": null,
   "id": "cdfe9e97",
   "metadata": {},
   "outputs": [],
   "source": [
    "## Income data\n",
    "\n",
    "# Source: ONS\n",
    "## Dataset: Earnings and hours worked, region by occupation by two-digit SOC: ASHE Table 3\n",
    "## Link: https://www.ons.gov.uk/employmentandlabourmarket/peopleinwork/earningsandworkinghours/datasets/regionbyoccupation2digitsocashetable3\n",
    "## Year: 2021 revised edition of this dataset\n",
    "## File downloaded: table32021revised.zip\n",
    "## Table: Work Region Occupation SOC10 (2) Table 3.7a   Annual pay - Gross 2021.xls\n",
    "\n",
    "\n",
    "# Select estimated min and max income values based on the percentile values given in previous source.\n",
    "## These values are related to a specific region of England (in this case, WM)\n",
    "occupation_5_income = [13882,36106]\n",
    "\n",
    "##########################################################################################\n",
    "\n",
    "## Dataset: Earnings and hours worked, region by occupation by two-digit SOC: ASHE Table 15\n",
    "## Link: https://www.ons.gov.uk/employmentandlabourmarket/peopleinwork/earningsandworkinghours/datasets/regionbyoccupation4digitsoc2010ashetable15\n",
    "## Year: 2021 revised edition of this dataset\n",
    "## File downloaded: table152021revised.zip\n",
    "## Table: Work Region Occupation SOC10 (4) Table 15.12  Gender pay gap 2021.xls\n",
    "\n",
    "#### Gender pay gap per occupation type (MEAN value) WM values\n",
    "occupation_5_gap = 0.206\n",
    "\n",
    "##########################################################################################\n",
    "##########################################################################################\n",
    "\n",
    "## code developed:\n",
    "\n",
    "# Name all occupation types to loop through them in the code:\n",
    "occupations = [5]\n",
    "\n",
    "\n",
    "for occupation in occupations:\n",
    "\n",
    "    \n",
    "    #Select the people of the df_occupation that is related to the selected OA area:\n",
    "    (globals()[f\"df_occupation_{occupation}\"]) = df_persons_NE_occupation.loc[(df_persons_NE_occupation['Occupation'] == occupation)]\n",
    "    \n",
    "    # Select the Min and Max income values of each occupation category:\n",
    "    occupation_income = (globals()[f\"occupation_{occupation}_income\"])\n",
    "    \n",
    "    \n",
    "    # Calculate the income age slot\n",
    "    ## this value will indicate the range in which agents will be assigned the income based on their age\n",
    "    income_age_width_slot = (occupation_income[1] - occupation_income[0])/ 10\n",
    "    \n",
    "    \n",
    "    ## Do the calculus just agent by agent\n",
    "    for idx_person, person in (globals()[f\"df_occupation_{occupation}\"]).iterrows():\n",
    "        \n",
    "        # Identify the slot of income based on the age (UK values)\n",
    "        ## An estimated range of income was guessed for each person based on their ages.\n",
    "        ## The estimated income by age was identified from: ONS\n",
    "        ### Earnings and hours worked, age group: ASHE Table 6\n",
    "        ### Link: https://www.ons.gov.uk/employmentandlabourmarket/peopleinwork/earningsandworkinghours/datasets/agegroupashetable6\n",
    "        ## Year: 2021 revised edition of this dataset\n",
    "        ## File downloaded: table62021revised.zip\n",
    "        ### Table: Age Group Table 6.7a   Annual pay - Gross 2021.xls\n",
    "        #### Agents aged 40-49 will earn more than any other, then agents aged 30-39, then 50-59, then 25-29, then 22-29, then 60+, then 18-21 and finally 16-17\n",
    "                    \n",
    "        \n",
    "        # Define the income range based on the age\n",
    "        if (person['Age'] <= 17):\n",
    "            income_min = occupation_income[0] - (occupation_income[0]/1.1)\n",
    "            income_max = occupation_income[0] - (occupation_income[0]/2)\n",
    "        elif (person['Age'] > 17 and person['Age'] <= 21):\n",
    "            income_min = occupation_income[0] - income_age_width_slot*3\n",
    "            income_max = occupation_income[0] + 1 * income_age_width_slot  \n",
    "        elif (person['Age'] > 21 and person['Age'] < 30):\n",
    "            income_min = occupation_income[0] + 0.1 * income_age_width_slot\n",
    "            income_max = occupation_income[0] + 7 * income_age_width_slot\n",
    "        elif (person['Age'] >= 30 and person['Age'] < 40):\n",
    "            income_min = occupation_income[0] + 2 * income_age_width_slot\n",
    "            income_max = occupation_income[0] + 8 * income_age_width_slot\n",
    "        elif (person['Age'] >= 40 and person['Age'] < 50):\n",
    "            income_min = occupation_income[0] + 5 * income_age_width_slot\n",
    "            income_max = occupation_income[0] + 16 * income_age_width_slot \n",
    "        elif (person['Age'] >= 50 and person['Age'] < 60):\n",
    "            income_min = occupation_income[0] + 2 * income_age_width_slot\n",
    "            income_max = occupation_income[0] + 10 * income_age_width_slot\n",
    "        elif (person['Age'] >= 60):\n",
    "            income_min = occupation_income[0] - (occupation_income[0]/2)\n",
    "            income_max = occupation_income[0] + 4 * income_age_width_slot\n",
    "\n",
    "\n",
    "            \n",
    "            \n",
    "        # Value identified as the income value of the person based on the occupation type and age range\n",
    "        income_selected_by_occupation_age = random.randint(int(income_min), int(income_max))\n",
    "        \n",
    "     \n",
    "        # Incorporate the gender gap\n",
    "        ## If male, then increase the income half of the gender income gap\n",
    "        ## If female, decrease the income half of the gender income gap\n",
    "        if (person['Sex'] == 1):   # Male\n",
    "            income_selected_by_occupation_age_sex = income_selected_by_occupation_age + (income_selected_by_occupation_age * (globals()[f\"occupation_{occupation}_gap\"])/2)\n",
    "        else:\n",
    "            income_selected_by_occupation_age_sex = income_selected_by_occupation_age - (income_selected_by_occupation_age * (globals()[f\"occupation_{occupation}_gap\"])/2)\n",
    "        \n",
    "                       \n",
    "        # Transform the income value into an integer and round it to the 10 closest value\n",
    "        income_chosen = int(income_selected_by_occupation_age_sex)\n",
    "        income_round = round(income_chosen,-1)\n",
    "        \n",
    "        # Update the value in the column \"Income\"\n",
    "        (globals()[f\"df_occupation_{occupation}\"]).at[idx_person,'Income'] = income_round\n",
    "        \n",
    "\n",
    "print('Job done. check the results')"
   ]
  },
  {
   "cell_type": "code",
   "execution_count": null,
   "id": "9d6fbec6",
   "metadata": {},
   "outputs": [],
   "source": [
    "# Calculate the min, max, mean and median income values:\n",
    "column = df_occupation_5[\"Income\"]\n",
    "min_value = column.min()\n",
    "max_value = column.max()\n",
    "mean_value = column.mean()\n",
    "median_value = column.median()\n",
    "\n",
    "print(min_value)\n",
    "print(max_value)\n",
    "print(mean_value)\n",
    "print(median_value)"
   ]
  },
  {
   "cell_type": "code",
   "execution_count": null,
   "id": "0f480313",
   "metadata": {},
   "outputs": [],
   "source": [
    "# Difference to the mean\n",
    "27998 -  mean_value\n"
   ]
  },
  {
   "cell_type": "code",
   "execution_count": null,
   "id": "e54602a4",
   "metadata": {
    "scrolled": true
   },
   "outputs": [],
   "source": [
    "# Difference to the median\n",
    "27070 - median_value"
   ]
  },
  {
   "cell_type": "code",
   "execution_count": null,
   "id": "dbc5bcdb",
   "metadata": {},
   "outputs": [],
   "source": [
    "# histogram:\n",
    "\n",
    "df_occupation_5.hist(column='Income', bins=50);"
   ]
  },
  {
   "cell_type": "code",
   "execution_count": null,
   "id": "db657c7a",
   "metadata": {},
   "outputs": [],
   "source": [
    "# calculate the differences between observed (ONS) and calculated percentiles for occupation 2:\n",
    "\n",
    "print(13882 - df_occupation_5.Income.quantile(0.1))\n",
    "print(18342 - df_occupation_5.Income.quantile(0.2))\n",
    "print(21507- df_occupation_5.Income.quantile(0.3))\n",
    "print(24178 - df_occupation_5.Income.quantile(0.4))\n",
    "#print( - df_occupation_5.Income.quantile(0.5))\n",
    "print(29997 - df_occupation_5.Income.quantile(0.6))\n",
    "print(32117 - df_occupation_5.Income.quantile(0.7))\n",
    "print(36106 - df_occupation_5.Income.quantile(0.8))\n",
    "\n",
    "\n"
   ]
  },
  {
   "cell_type": "markdown",
   "id": "bf7c1246",
   "metadata": {},
   "source": [
    "##### Check the order of the median income per range of age"
   ]
  },
  {
   "cell_type": "code",
   "execution_count": null,
   "id": "0ec094d9",
   "metadata": {},
   "outputs": [],
   "source": [
    "df_income_16_17_occupation_5 = df_occupation_5.loc[(df_occupation_5['Age'] >=16) & (df_occupation_5['Age'] <=17)]\n",
    "\n",
    "df_income_16_17_occupation_5[\"Income\"].median()"
   ]
  },
  {
   "cell_type": "code",
   "execution_count": null,
   "id": "35e027e9",
   "metadata": {},
   "outputs": [],
   "source": [
    "df_income_18_21_occupation_5 = df_occupation_5.loc[(df_occupation_5['Age'] >=18) & (df_occupation_5['Age'] <=21)]\n",
    "\n",
    "df_income_18_21_occupation_5[\"Income\"].median()"
   ]
  },
  {
   "cell_type": "code",
   "execution_count": null,
   "id": "591e28ef",
   "metadata": {},
   "outputs": [],
   "source": [
    "df_income_22_29_occupation_5 = df_occupation_5.loc[(df_occupation_5['Age'] >=22) & (df_occupation_5['Age'] <=29)]\n",
    "\n",
    "df_income_22_29_occupation_5[\"Income\"].median()"
   ]
  },
  {
   "cell_type": "code",
   "execution_count": null,
   "id": "0db0ff38",
   "metadata": {},
   "outputs": [],
   "source": [
    "df_income_30_39_occupation_5 = df_occupation_5.loc[(df_occupation_5['Age'] >=30) & (df_occupation_5['Age'] <=39)]\n",
    "\n",
    "df_income_30_39_occupation_5[\"Income\"].median()"
   ]
  },
  {
   "cell_type": "code",
   "execution_count": null,
   "id": "591a5d49",
   "metadata": {},
   "outputs": [],
   "source": [
    "df_income_40_49_occupation_5 = df_occupation_5.loc[(df_occupation_5['Age'] >=40) & (df_occupation_5['Age'] <=49)]\n",
    "\n",
    "df_income_40_49_occupation_5[\"Income\"].median()"
   ]
  },
  {
   "cell_type": "code",
   "execution_count": null,
   "id": "247131c3",
   "metadata": {},
   "outputs": [],
   "source": [
    "df_income_50_59_occupation_5 = df_occupation_5.loc[(df_occupation_5['Age'] >=50) & (df_occupation_5['Age'] <=59)]\n",
    "\n",
    "df_income_50_59_occupation_5[\"Income\"].median()"
   ]
  },
  {
   "cell_type": "code",
   "execution_count": null,
   "id": "a9e5244d",
   "metadata": {},
   "outputs": [],
   "source": [
    "df_income_60_120_occupation_5 = df_occupation_5.loc[(df_occupation_5['Age'] >=60)]\n",
    "\n",
    "df_income_60_120_occupation_5[\"Income\"].median()"
   ]
  },
  {
   "cell_type": "code",
   "execution_count": null,
   "id": "059bc79e",
   "metadata": {},
   "outputs": [],
   "source": [
    "df_occupation_5_saved = df_occupation_5\n",
    "\n",
    "df_occupation_5_saved.to_csv('/home/manon/Documents/Leeds/RAIM/code/RAIM/data/westmidlands/synthetic_pop_SPENSER/'+year+'/NE_only/df_occupation_5.csv', encoding='utf-8', header=True)\n"
   ]
  },
  {
   "cell_type": "markdown",
   "id": "0ed277b3",
   "metadata": {},
   "source": [
    "### Occupation 7"
   ]
  },
  {
   "cell_type": "code",
   "execution_count": null,
   "id": "d13d22d4",
   "metadata": {},
   "outputs": [],
   "source": [
    "## Income data\n",
    "\n",
    "# Source: ONS\n",
    "## Dataset: Earnings and hours worked, region by occupation by two-digit SOC: ASHE Table 3\n",
    "## Link: https://www.ons.gov.uk/employmentandlabourmarket/peopleinwork/earningsandworkinghours/datasets/regionbyoccupation2digitsocashetable3\n",
    "## Year: 2021 revised edition of this dataset\n",
    "## File downloaded: table32021revised.zip\n",
    "## Table: Work Region Occupation SOC10 (2) Table 3.7a   Annual pay - Gross 2021.xls\n",
    "\n",
    "\n",
    "# Select estimated min and max income values based on the percentile values given in previous source.\n",
    "## These values are related to a specific region of England (in this case, WM)\n",
    "occupation_7_income = [5611,27647]\n",
    "\n",
    "##########################################################################################\n",
    "\n",
    "## Dataset: Earnings and hours worked, region by occupation by two-digit SOC: ASHE Table 15\n",
    "## Link: https://www.ons.gov.uk/employmentandlabourmarket/peopleinwork/earningsandworkinghours/datasets/regionbyoccupation4digitsoc2010ashetable15\n",
    "## Year: 2021 revised edition of this dataset\n",
    "## File downloaded: table152021revised.zip\n",
    "## Table: Work Region Occupation SOC10 (4) Table 15.12  Gender pay gap 2021.xls\n",
    "\n",
    "#### Gender pay gap per occupation type (MEAN value) WM values\n",
    "occupation_7_gap = 0.033\n",
    "\n",
    "##########################################################################################\n",
    "##########################################################################################\n",
    "\n",
    "## code developed:\n",
    "\n",
    "# Name all occupation types to loop through them in the code:\n",
    "occupations = [7]\n",
    "\n",
    "\n",
    "for occupation in occupations:\n",
    "\n",
    "    \n",
    "    #Select the people of the df_occupation that is related to the selected OA area:\n",
    "    (globals()[f\"df_occupation_{occupation}\"]) = df_persons_NE_occupation.loc[(df_persons_NE_occupation['Occupation'] == occupation)]\n",
    "    \n",
    "    # Select the Min and Max income values of each occupation category:\n",
    "    occupation_income = (globals()[f\"occupation_{occupation}_income\"])\n",
    "    \n",
    "    \n",
    "    # Calculate the income age slot\n",
    "    ## this value will indicate the range in which agents will be assigned the income based on their age\n",
    "    income_age_width_slot = (occupation_income[1] - occupation_income[0])/ 10\n",
    "    \n",
    "    \n",
    "    ## Do the calculus just agent by agent\n",
    "    for idx_person, person in (globals()[f\"df_occupation_{occupation}\"]).iterrows():\n",
    "        \n",
    "        # Identify the slot of income based on the age (UK values)\n",
    "        ## An estimated range of income was guessed for each person based on their ages.\n",
    "        ## The estimated income by age was identified from: ONS\n",
    "        ### Earnings and hours worked, age group: ASHE Table 6\n",
    "        ### Link: https://www.ons.gov.uk/employmentandlabourmarket/peopleinwork/earningsandworkinghours/datasets/agegroupashetable6\n",
    "        ## Year: 2021 revised edition of this dataset\n",
    "        ## File downloaded: table62021revised.zip\n",
    "        ### Table: Age Group Table 6.7a   Annual pay - Gross 2021.xls\n",
    "        #### Agents aged 40-49 will earn more than any other, then agents aged 30-39, then 50-59, then 25-29, then 22-29, then 60+, then 18-21 and finally 16-17\n",
    "                    \n",
    "        \n",
    "        # Define the income range based on the age\n",
    "        if (person['Age'] <= 17):\n",
    "            income_min = occupation_income[0] - (occupation_income[0]/1.1)\n",
    "            income_max = occupation_income[0] - (occupation_income[0]/10)\n",
    "        elif (person['Age'] > 17 and person['Age'] <= 21):\n",
    "            income_min = occupation_income[0] - (occupation_income[0]/1.1)\n",
    "            income_max = occupation_income[0] + 3.5 * income_age_width_slot  \n",
    "        elif (person['Age'] > 21 and person['Age'] < 30):\n",
    "            income_min = occupation_income[0] + 0.3 * income_age_width_slot\n",
    "            income_max = occupation_income[0] + 8 * income_age_width_slot\n",
    "        elif (person['Age'] >= 30 and person['Age'] < 40):\n",
    "            income_min = occupation_income[0] + 1 * income_age_width_slot\n",
    "            income_max = occupation_income[0] + 12 * income_age_width_slot\n",
    "        elif (person['Age'] >= 40 and person['Age'] < 50):\n",
    "            income_min = occupation_income[0] + 4 * income_age_width_slot\n",
    "            income_max = occupation_income[0] + 15 * income_age_width_slot \n",
    "        elif (person['Age'] >= 50 and person['Age'] < 60):\n",
    "            income_min = occupation_income[0] + 2 * income_age_width_slot\n",
    "            income_max = occupation_income[0] + 12 * income_age_width_slot\n",
    "        elif (person['Age'] >= 60):\n",
    "            income_min = occupation_income[0] + 0.4 * income_age_width_slot\n",
    "            income_max = occupation_income[0] + 6 * income_age_width_slot\n",
    "\n",
    "            \n",
    "        # Value identified as the income value of the person based on the occupation type and age range\n",
    "        income_selected_by_occupation_age = random.randint(int(income_min), int(income_max))\n",
    "        \n",
    "     \n",
    "        # Incorporate the gender gap\n",
    "        ## If male, then increase the income half of the gender income gap\n",
    "        ## If female, decrease the income half of the gender income gap\n",
    "        if (person['Sex'] == 1):   # Male\n",
    "            income_selected_by_occupation_age_sex = income_selected_by_occupation_age + (income_selected_by_occupation_age * (globals()[f\"occupation_{occupation}_gap\"])/2)\n",
    "        else:\n",
    "            income_selected_by_occupation_age_sex = income_selected_by_occupation_age - (income_selected_by_occupation_age * (globals()[f\"occupation_{occupation}_gap\"])/2)\n",
    "        \n",
    "                       \n",
    "        # Transform the income value into an integer and round it to the 10 closest value\n",
    "        income_chosen = int(income_selected_by_occupation_age_sex)\n",
    "        income_round = round(income_chosen,-1)\n",
    "        \n",
    "        # Update the value in the column \"Income\"\n",
    "        (globals()[f\"df_occupation_{occupation}\"]).at[idx_person,'Income'] = income_round\n",
    "        \n",
    "\n",
    "print('Job done. check the results')"
   ]
  },
  {
   "cell_type": "code",
   "execution_count": null,
   "id": "56d2fae2",
   "metadata": {},
   "outputs": [],
   "source": [
    "# Calculate the min, max, mean and median income value:\n",
    "column = df_occupation_7[\"Income\"]\n",
    "min_value = column.min()\n",
    "max_value = column.max()\n",
    "mean_value = column.mean()\n",
    "median_value = column.median()\n",
    "\n",
    "print(min_value)\n",
    "print(max_value)\n",
    "print(mean_value)\n",
    "print(median_value)"
   ]
  },
  {
   "cell_type": "code",
   "execution_count": null,
   "id": "75c37d98",
   "metadata": {},
   "outputs": [],
   "source": [
    "# difference to the mean\n",
    "15825 -  mean_value\n"
   ]
  },
  {
   "cell_type": "code",
   "execution_count": null,
   "id": "d985a1ce",
   "metadata": {},
   "outputs": [],
   "source": [
    "# difference to the median\n",
    "14440 - median_value"
   ]
  },
  {
   "cell_type": "code",
   "execution_count": null,
   "id": "8fa90e61",
   "metadata": {},
   "outputs": [],
   "source": [
    "# histogram\n",
    "df_occupation_7.hist(column='Income', bins=50);"
   ]
  },
  {
   "cell_type": "code",
   "execution_count": null,
   "id": "de759a4d",
   "metadata": {},
   "outputs": [],
   "source": [
    "# calculate the differences between observed (ONS) and calculated percentiles for occupation 2:\n",
    "\n",
    "print(5611 - df_occupation_7.Income.quantile(0.1))\n",
    "print(7911 - df_occupation_7.Income.quantile(0.2))\n",
    "print(9859 - df_occupation_7.Income.quantile(0.3))\n",
    "print(12071 - df_occupation_7.Income.quantile(0.4))\n",
    "#print( - df_occupation_5.Income.quantile(0.5))\n",
    "print(17326 - df_occupation_7.Income.quantile(0.6))\n",
    "print(19686 - df_occupation_7.Income.quantile(0.7))\n",
    "print(22876 - df_occupation_7.Income.quantile(0.8))\n",
    "print(27647 - df_occupation_7.Income.quantile(0.9))\n"
   ]
  },
  {
   "cell_type": "markdown",
   "id": "c5ba7f90",
   "metadata": {},
   "source": [
    "##### Check the order of the median income per range of age"
   ]
  },
  {
   "cell_type": "code",
   "execution_count": null,
   "id": "693ac68d",
   "metadata": {},
   "outputs": [],
   "source": [
    "df_income_16_17_occupation_7 = df_occupation_7.loc[(df_occupation_7['Age'] >=16) & (df_occupation_7['Age'] <=17)]\n",
    "\n",
    "df_income_16_17_occupation_7[\"Income\"].median()"
   ]
  },
  {
   "cell_type": "code",
   "execution_count": null,
   "id": "67a80990",
   "metadata": {},
   "outputs": [],
   "source": [
    "df_income_18_21_occupation_7 = df_occupation_7.loc[(df_occupation_7['Age'] >=18) & (df_occupation_7['Age'] <=21)]\n",
    "\n",
    "df_income_18_21_occupation_7[\"Income\"].median()"
   ]
  },
  {
   "cell_type": "code",
   "execution_count": null,
   "id": "6156ea68",
   "metadata": {},
   "outputs": [],
   "source": [
    "df_income_22_29_occupation_7 = df_occupation_7.loc[(df_occupation_7['Age'] >=22) & (df_occupation_7['Age'] <=29)]\n",
    "\n",
    "df_income_22_29_occupation_7[\"Income\"].median()"
   ]
  },
  {
   "cell_type": "code",
   "execution_count": null,
   "id": "c3a38b3e",
   "metadata": {},
   "outputs": [],
   "source": [
    "df_income_30_39_occupation_7 = df_occupation_7.loc[(df_occupation_7['Age'] >=30) & (df_occupation_7['Age'] <=39)]\n",
    "\n",
    "df_income_30_39_occupation_7[\"Income\"].median()"
   ]
  },
  {
   "cell_type": "code",
   "execution_count": null,
   "id": "4f7c8671",
   "metadata": {},
   "outputs": [],
   "source": [
    "df_income_40_49_occupation_7 = df_occupation_7.loc[(df_occupation_7['Age'] >=40) & (df_occupation_7['Age'] <=49)]\n",
    "\n",
    "df_income_40_49_occupation_7[\"Income\"].median()"
   ]
  },
  {
   "cell_type": "code",
   "execution_count": null,
   "id": "783f393e",
   "metadata": {},
   "outputs": [],
   "source": [
    "df_income_50_59_occupation_7 = df_occupation_7.loc[(df_occupation_7['Age'] >=50) & (df_occupation_7['Age'] <=59)]\n",
    "\n",
    "df_income_50_59_occupation_7[\"Income\"].median()"
   ]
  },
  {
   "cell_type": "code",
   "execution_count": null,
   "id": "c871f413",
   "metadata": {},
   "outputs": [],
   "source": [
    "df_income_60_120_occupation_7 = df_occupation_7.loc[(df_occupation_7['Age'] >=60)]\n",
    "\n",
    "df_income_60_120_occupation_7[\"Income\"].median()"
   ]
  },
  {
   "cell_type": "code",
   "execution_count": null,
   "id": "27aeccba",
   "metadata": {},
   "outputs": [],
   "source": [
    "df_occupation_7_saved = df_occupation_7\n",
    "\n",
    "df_occupation_7_saved.to_csv('/home/manon/Documents/Leeds/RAIM/code/RAIM/data/westmidlands/synthetic_pop_SPENSER/'+year+'/NE_only/df_occupation_7.csv', encoding='utf-8', header=True)\n"
   ]
  },
  {
   "cell_type": "markdown",
   "id": "7a18d657",
   "metadata": {},
   "source": [
    "### Occupation 8"
   ]
  },
  {
   "cell_type": "code",
   "execution_count": null,
   "id": "a39f1657",
   "metadata": {},
   "outputs": [],
   "source": [
    "## Income data\n",
    "\n",
    "# Source: ONS\n",
    "## Dataset: Earnings and hours worked, region by occupation by two-digit SOC: ASHE Table 3\n",
    "## Link: https://www.ons.gov.uk/employmentandlabourmarket/peopleinwork/earningsandworkinghours/datasets/regionbyoccupation2digitsocashetable3\n",
    "## Year: 2021 revised edition of this dataset\n",
    "## File downloaded: table32021revised.zip\n",
    "## Table: Work Region Occupation SOC10 (2) Table 3.7a   Annual pay - Gross 2021.xls\n",
    "\n",
    "\n",
    "# Select estimated min and max income values based on the percentile values given in previous source.\n",
    "## These values are related to a specific region of England (in this case, WM)\n",
    "occupation_8_income = [12507,36378]\n",
    "\n",
    "##########################################################################################\n",
    "\n",
    "## Dataset: Earnings and hours worked, region by occupation by two-digit SOC: ASHE Table 15\n",
    "## Link: https://www.ons.gov.uk/employmentandlabourmarket/peopleinwork/earningsandworkinghours/datasets/regionbyoccupation4digitsoc2010ashetable15\n",
    "## Year: 2021 revised edition of this dataset\n",
    "## File downloaded: table152021revised.zip\n",
    "## Table: Work Region Occupation SOC10 (4) Table 15.12  Gender pay gap 2021.xls\n",
    "\n",
    "#### Gender pay gap per occupation type (MEAN value) WM values\n",
    "occupation_8_gap = 0.150\n",
    "\n",
    "##########################################################################################\n",
    "##########################################################################################\n",
    "\n",
    "## code developed:\n",
    "\n",
    "# Name all occupation types to loop through them in the code:\n",
    "occupations = [8]\n",
    "\n",
    "\n",
    "for occupation in occupations:\n",
    "\n",
    "    \n",
    "    #Select the people of the df_occupation that is related to the selected OA area:\n",
    "    (globals()[f\"df_occupation_{occupation}\"]) = df_persons_NE_occupation.loc[(df_persons_NE_occupation['Occupation'] == occupation)]\n",
    "    \n",
    "    # Select the Min and Max income values of each occupation category:\n",
    "    occupation_income = (globals()[f\"occupation_{occupation}_income\"])\n",
    "    \n",
    "    \n",
    "    # Calculate the income age slot\n",
    "    ## this value will indicate the range in which agents will be assigned the income based on their age\n",
    "    income_age_width_slot = (occupation_income[1] - occupation_income[0])/ 10\n",
    "    \n",
    "    \n",
    "    ## Do the calculus just agent by agent\n",
    "    for idx_person, person in (globals()[f\"df_occupation_{occupation}\"]).iterrows():\n",
    "        \n",
    "        # Identify the slot of income based on the age (UK values)\n",
    "        ## An estimated range of income was guessed for each person based on their ages.\n",
    "        ## The estimated income by age was identified from: ONS\n",
    "        ### Earnings and hours worked, age group: ASHE Table 6\n",
    "        ### Link: https://www.ons.gov.uk/employmentandlabourmarket/peopleinwork/earningsandworkinghours/datasets/agegroupashetable6\n",
    "        ## Year: 2021 revised edition of this dataset\n",
    "        ## File downloaded: table62021revised.zip\n",
    "        ### Table: Age Group Table 6.7a   Annual pay - Gross 2021.xls\n",
    "        #### Agents aged 40-49 will earn more than any other, then agents aged 30-39, then 50-59, then 25-29, then 22-29, then 60+, then 18-21 and finally 16-17\n",
    "                    \n",
    "        \n",
    "        # Define the income range based on the age\n",
    "        if (person['Age'] <= 17):\n",
    "            income_min = occupation_income[0] - (occupation_income[0]/1.1)\n",
    "            income_max = occupation_income[0] - (occupation_income[0]/2)\n",
    "        elif (person['Age'] > 17 and person['Age'] <= 21):\n",
    "            income_min = occupation_income[0] - 4 * income_age_width_slot\n",
    "            income_max = occupation_income[0] - 2 * income_age_width_slot  \n",
    "        elif (person['Age'] > 21 and person['Age'] < 30):\n",
    "            income_min = occupation_income[0] - 0.5 * income_age_width_slot\n",
    "            income_max = occupation_income[0] + 5 * income_age_width_slot\n",
    "        elif (person['Age'] >= 30 and person['Age'] < 40):\n",
    "            income_min = occupation_income[0] + 1 * income_age_width_slot\n",
    "            income_max = occupation_income[0] + 6.5 * income_age_width_slot\n",
    "        elif (person['Age'] >= 40 and person['Age'] < 50):\n",
    "            income_min = occupation_income[0] + 4 * income_age_width_slot\n",
    "            income_max = occupation_income[0] + 12.5 * income_age_width_slot \n",
    "        elif (person['Age'] >= 50 and person['Age'] < 60):\n",
    "            income_min = occupation_income[0] + 1.5 * income_age_width_slot\n",
    "            income_max = occupation_income[0] + 9.5 * income_age_width_slot\n",
    "        elif (person['Age'] >= 60):\n",
    "            income_min = occupation_income[0] - 0.6 * income_age_width_slot\n",
    "            income_max = occupation_income[0] + 3.3 * income_age_width_slot\n",
    "\n",
    "            \n",
    "        # Value identified as the income value of the person based on the occupation type and age range\n",
    "        income_selected_by_occupation_age = random.randint(int(income_min), int(income_max))\n",
    "        \n",
    "     \n",
    "        # Incorporate the gender gap\n",
    "        ## If male, then increase the income half of the gender income gap\n",
    "        ## If female, decrease the income half of the gender income gap\n",
    "        if (person['Sex'] == 1):   # Male\n",
    "            income_selected_by_occupation_age_sex = income_selected_by_occupation_age + (income_selected_by_occupation_age * (globals()[f\"occupation_{occupation}_gap\"])/2)\n",
    "        else:\n",
    "            income_selected_by_occupation_age_sex = income_selected_by_occupation_age - (income_selected_by_occupation_age * (globals()[f\"occupation_{occupation}_gap\"])/2)\n",
    "        \n",
    "                       \n",
    "        # Transform the income value into an integer and round it to the 10 closest value\n",
    "        income_chosen = int(income_selected_by_occupation_age_sex)\n",
    "        income_round = round(income_chosen,-1)\n",
    "        \n",
    "        # Update the value in the column \"Income\"\n",
    "        (globals()[f\"df_occupation_{occupation}\"]).at[idx_person,'Income'] = income_round\n",
    "        \n",
    "\n",
    "print('Job done. check the results')"
   ]
  },
  {
   "cell_type": "code",
   "execution_count": null,
   "id": "54bf0204",
   "metadata": {},
   "outputs": [],
   "source": [
    "# Calculate the min, max, mean and median income values:\n",
    "column = df_occupation_8[\"Income\"]\n",
    "min_value = column.min()\n",
    "max_value = column.max()\n",
    "mean_value = column.mean()\n",
    "median_value = column.median()\n",
    "\n",
    "print(min_value)\n",
    "print(max_value)\n",
    "print(mean_value)\n",
    "print(median_value)"
   ]
  },
  {
   "cell_type": "code",
   "execution_count": null,
   "id": "a5e6c231",
   "metadata": {},
   "outputs": [],
   "source": [
    "# Difference to the mean\n",
    "24859 -  mean_value\n"
   ]
  },
  {
   "cell_type": "code",
   "execution_count": null,
   "id": "5ae78e25",
   "metadata": {},
   "outputs": [],
   "source": [
    "# Difference to the median:\n",
    "23725 - median_value"
   ]
  },
  {
   "cell_type": "code",
   "execution_count": null,
   "id": "138b312d",
   "metadata": {},
   "outputs": [],
   "source": [
    "# Histogram\n",
    "df_occupation_8.hist(column='Income', bins=50);"
   ]
  },
  {
   "cell_type": "code",
   "execution_count": null,
   "id": "1ff52ecd",
   "metadata": {},
   "outputs": [],
   "source": [
    "# calculate the differences between observed (ONS) and calculated percentiles for occupation 2:\n",
    "\n",
    "print(12507 - df_occupation_8.Income.quantile(0.1))\n",
    "print(17515 - df_occupation_8.Income.quantile(0.2))\n",
    "print(19682 - df_occupation_8.Income.quantile(0.3))\n",
    "print(21156 - df_occupation_8.Income.quantile(0.4))\n",
    "#print( - df_occupation_8.Income.quantile(0.5))\n",
    "print(25908 - df_occupation_8.Income.quantile(0.6))\n",
    "print(28987 - df_occupation_8.Income.quantile(0.7))\n",
    "print(32051 - df_occupation_8.Income.quantile(0.8))\n",
    "print(36378 - df_occupation_8.Income.quantile(0.9))"
   ]
  },
  {
   "cell_type": "markdown",
   "id": "9c79dab9",
   "metadata": {},
   "source": [
    "##### Check the order of the median income per range of age"
   ]
  },
  {
   "cell_type": "code",
   "execution_count": null,
   "id": "7a1fadf2",
   "metadata": {},
   "outputs": [],
   "source": [
    "df_income_16_17_occupation_8 = df_occupation_8.loc[(df_occupation_8['Age'] >=16) & (df_occupation_8['Age'] <=17)]\n",
    "\n",
    "df_income_16_17_occupation_8[\"Income\"].median()"
   ]
  },
  {
   "cell_type": "code",
   "execution_count": null,
   "id": "f80ff2af",
   "metadata": {},
   "outputs": [],
   "source": [
    "df_income_18_21_occupation_8 = df_occupation_8.loc[(df_occupation_8['Age'] >=18) & (df_occupation_8['Age'] <=21)]\n",
    "\n",
    "df_income_18_21_occupation_8[\"Income\"].median()"
   ]
  },
  {
   "cell_type": "code",
   "execution_count": null,
   "id": "3e85730b",
   "metadata": {},
   "outputs": [],
   "source": [
    "df_income_22_29_occupation_8 = df_occupation_8.loc[(df_occupation_8['Age'] >=22) & (df_occupation_8['Age'] <=29)]\n",
    "\n",
    "df_income_22_29_occupation_8[\"Income\"].median()"
   ]
  },
  {
   "cell_type": "code",
   "execution_count": null,
   "id": "99ba5c43",
   "metadata": {},
   "outputs": [],
   "source": [
    "df_income_30_39_occupation_8 = df_occupation_8.loc[(df_occupation_8['Age'] >=30) & (df_occupation_8['Age'] <=39)]\n",
    "\n",
    "df_income_30_39_occupation_8[\"Income\"].median()"
   ]
  },
  {
   "cell_type": "code",
   "execution_count": null,
   "id": "a3d2f46d",
   "metadata": {},
   "outputs": [],
   "source": [
    "df_income_40_49_occupation_8 = df_occupation_8.loc[(df_occupation_8['Age'] >=40) & (df_occupation_8['Age'] <=49)]\n",
    "\n",
    "df_income_40_49_occupation_8[\"Income\"].median()"
   ]
  },
  {
   "cell_type": "code",
   "execution_count": null,
   "id": "0962378b",
   "metadata": {},
   "outputs": [],
   "source": [
    "df_income_50_59_occupation_8 = df_occupation_8.loc[(df_occupation_8['Age'] >=50) & (df_occupation_8['Age'] <=59)]\n",
    "\n",
    "df_income_50_59_occupation_8[\"Income\"].median()"
   ]
  },
  {
   "cell_type": "code",
   "execution_count": null,
   "id": "071f3e56",
   "metadata": {},
   "outputs": [],
   "source": [
    "df_income_60_120_occupation_8 = df_occupation_8.loc[(df_occupation_8['Age'] >=60)]\n",
    "\n",
    "df_income_60_120_occupation_8[\"Income\"].median()"
   ]
  },
  {
   "cell_type": "code",
   "execution_count": null,
   "id": "4ad0e9c2",
   "metadata": {},
   "outputs": [],
   "source": [
    "df_occupation_8_saved = df_occupation_8\n",
    "\n",
    "df_occupation_8_saved.to_csv('/home/manon/Documents/Leeds/RAIM/code/RAIM/data/westmidlands/synthetic_pop_SPENSER/'+year+'/NE_only/df_occupation_8.csv', encoding='utf-8', header=True)\n"
   ]
  },
  {
   "cell_type": "markdown",
   "id": "4e99daac",
   "metadata": {},
   "source": [
    "### Occupation 9"
   ]
  },
  {
   "cell_type": "code",
   "execution_count": null,
   "id": "d3df0f0e",
   "metadata": {},
   "outputs": [],
   "source": [
    "## Income data\n",
    "\n",
    "# Source: ONS\n",
    "## Dataset: Earnings and hours worked, region by occupation by two-digit SOC: ASHE Table 3\n",
    "## Link: https://www.ons.gov.uk/employmentandlabourmarket/peopleinwork/earningsandworkinghours/datasets/regionbyoccupation2digitsocashetable3\n",
    "## Year: 2021 revised edition of this dataset\n",
    "## File downloaded: table32021revised.zip\n",
    "## Table: Work Region Occupation SOC10 (2) Table 3.7a   Annual pay - Gross 2021.xls\n",
    "\n",
    "\n",
    "# Select estimated min and max income values based on the percentile values given in previous source.\n",
    "## These values are related to a specific region of England (in this case, WM)\n",
    "occupation_9_income = [4171,32568]\n",
    "\n",
    "##########################################################################################\n",
    "\n",
    "## Dataset: Earnings and hours worked, region by occupation by two-digit SOC: ASHE Table 15\n",
    "## Link: https://www.ons.gov.uk/employmentandlabourmarket/peopleinwork/earningsandworkinghours/datasets/regionbyoccupation4digitsoc2010ashetable15\n",
    "## Year: 2021 revised edition of this dataset\n",
    "## File downloaded: table152021revised.zip\n",
    "## Table: Work Region Occupation SOC10 (4) Table 15.12  Gender pay gap 2021.xls\n",
    "\n",
    "#### Gender pay gap per occupation type (MEAN value) WM values\n",
    "occupation_9_gap = 0.180\n",
    "\n",
    "##########################################################################################\n",
    "##########################################################################################\n",
    "\n",
    "## code developed:\n",
    "\n",
    "# Name all occupation types to loop through them in the code:\n",
    "occupations = [9]\n",
    "\n",
    "\n",
    "for occupation in occupations:\n",
    "\n",
    "    \n",
    "    #Select the people of the df_occupation that is related to the selected OA area:\n",
    "    (globals()[f\"df_occupation_{occupation}\"]) = df_persons_NE_occupation.loc[(df_persons_NE_occupation['Occupation'] == occupation)]\n",
    "    \n",
    "    # Select the Min and Max income values of each occupation category:\n",
    "    occupation_income = (globals()[f\"occupation_{occupation}_income\"])\n",
    "    \n",
    "    \n",
    "    # Calculate the income age slot\n",
    "    ## this value will indicate the range in which agents will be assigned the income based on their age\n",
    "    income_age_width_slot = (occupation_income[1] - occupation_income[0])/ 10\n",
    "    \n",
    "    \n",
    "    ## Do the calculus just agent by agent\n",
    "    for idx_person, person in (globals()[f\"df_occupation_{occupation}\"]).iterrows():\n",
    "        \n",
    "        # Identify the slot of income based on the age (UK values)\n",
    "        ## An estimated range of income was guessed for each person based on their ages.\n",
    "        ## The estimated income by age was identified from: ONS\n",
    "        ### Earnings and hours worked, age group: ASHE Table 6\n",
    "        ### Link: https://www.ons.gov.uk/employmentandlabourmarket/peopleinwork/earningsandworkinghours/datasets/agegroupashetable6\n",
    "        ## Year: 2021 revised edition of this dataset\n",
    "        ## File downloaded: table62021revised.zip\n",
    "        ### Table: Age Group Table 6.7a   Annual pay - Gross 2021.xls\n",
    "        #### Agents aged 40-49 will earn more than any other, then agents aged 30-39, then 50-59, then 25-29, then 22-29, then 60+, then 18-21 and finally 16-17\n",
    "                    \n",
    "        \n",
    "        # Define the income range based on the age\n",
    "        if (person['Age'] <= 17):\n",
    "            income_min = occupation_income[0] - (occupation_income[0]/2)\n",
    "            income_max = occupation_income[0] - (occupation_income[0]/4)\n",
    "        elif (person['Age'] > 17 and person['Age'] <= 21):\n",
    "            income_min = occupation_income[0] - 1*income_age_width_slot\n",
    "            income_max = occupation_income[0] + 2.5 * income_age_width_slot    \n",
    "        elif (person['Age'] > 21 and person['Age'] < 30):\n",
    "            income_min = occupation_income[0] - 1 * income_age_width_slot \n",
    "            income_max = occupation_income[0] + 3.5 * income_age_width_slot\n",
    "        elif (person['Age'] >= 30 and person['Age'] < 40):\n",
    "            income_min = occupation_income[0] + 4 * income_age_width_slot\n",
    "            income_max = occupation_income[0] + 8.5 * income_age_width_slot\n",
    "        elif (person['Age'] >= 40 and person['Age'] < 50):\n",
    "            income_min = occupation_income[0] + 7.5 * income_age_width_slot\n",
    "            income_max = occupation_income[0] + 13 * income_age_width_slot \n",
    "        elif (person['Age'] >= 50 and person['Age'] < 60):\n",
    "            income_min = occupation_income[0] + 4 * income_age_width_slot\n",
    "            income_max = occupation_income[0] + 8.5 * income_age_width_slot\n",
    "        elif (person['Age'] >= 60):\n",
    "            income_min = occupation_income[0] + 0.5 * income_age_width_slot\n",
    "            income_max = occupation_income[0] + 4.5 * income_age_width_slot\n",
    "\n",
    "            \n",
    "        # Value identified as the income value of the person based on the occupation type and age range\n",
    "        income_selected_by_occupation_age = random.randint(int(income_min), int(income_max))\n",
    "        \n",
    "     \n",
    "        # Incorporate the gender gap\n",
    "        ## If male, then increase the income half of the gender income gap\n",
    "        ## If female, decrease the income half of the gender income gap\n",
    "        if (person['Sex'] == 1):   # Male\n",
    "            income_selected_by_occupation_age_sex = income_selected_by_occupation_age + (income_selected_by_occupation_age * (globals()[f\"occupation_{occupation}_gap\"])/2)\n",
    "        else:\n",
    "            income_selected_by_occupation_age_sex = income_selected_by_occupation_age - (income_selected_by_occupation_age * (globals()[f\"occupation_{occupation}_gap\"])/2)\n",
    "        \n",
    "                       \n",
    "        # Transform the income value into an integer and round it to the 10 closest value\n",
    "        income_chosen = int(income_selected_by_occupation_age_sex)\n",
    "        income_round = round(income_chosen,-1)\n",
    "        \n",
    "        # Update the value in the column \"Income\"\n",
    "        (globals()[f\"df_occupation_{occupation}\"]).at[idx_person,'Income'] = income_round\n",
    "        \n",
    "\n",
    "print('Job done. check the results')"
   ]
  },
  {
   "cell_type": "code",
   "execution_count": null,
   "id": "231cd42a",
   "metadata": {},
   "outputs": [],
   "source": [
    "# Calculate the min, max, mean and median income values:\n",
    "column = df_occupation_9[\"Income\"]\n",
    "min_value = column.min()\n",
    "max_value = column.max()\n",
    "mean_value = column.mean()\n",
    "median_value = column.median()\n",
    "\n",
    "print(min_value)\n",
    "print(max_value)\n",
    "print(mean_value)\n",
    "print(median_value)"
   ]
  },
  {
   "cell_type": "code",
   "execution_count": null,
   "id": "a422c4e3",
   "metadata": {},
   "outputs": [],
   "source": [
    "# Difference to the mean:\n",
    "17679 -  mean_value"
   ]
  },
  {
   "cell_type": "code",
   "execution_count": null,
   "id": "d1c44735",
   "metadata": {},
   "outputs": [],
   "source": [
    "# difference to the median:\n",
    "17775 - median_value"
   ]
  },
  {
   "cell_type": "code",
   "execution_count": null,
   "id": "91601347",
   "metadata": {},
   "outputs": [],
   "source": [
    "# Histogram:\n",
    "df_occupation_9.hist(column='Income', bins=50);"
   ]
  },
  {
   "cell_type": "code",
   "execution_count": null,
   "id": "6ef58100",
   "metadata": {},
   "outputs": [],
   "source": [
    "# calculate the differences between observed (ONS) and calculated percentiles for occupation 2:\n",
    "\n",
    "print(4171 - df_occupation_9.Income.quantile(0.1))\n",
    "print(6862 - df_occupation_9.Income.quantile(0.2))\n",
    "print(9877 - df_occupation_9.Income.quantile(0.3))\n",
    "print(14353 - df_occupation_9.Income.quantile(0.4))\n",
    "#print( - df_occupation_9.Income.quantile(0.5))\n",
    "print(19876 - df_occupation_9.Income.quantile(0.6))\n",
    "print(22587 - df_occupation_9.Income.quantile(0.7))\n",
    "print(25665 - df_occupation_9.Income.quantile(0.8))\n",
    "print(32568 - df_occupation_9.Income.quantile(0.9))\n"
   ]
  },
  {
   "cell_type": "markdown",
   "id": "23f56d08",
   "metadata": {},
   "source": [
    "##### Check the order of the median income per range of age"
   ]
  },
  {
   "cell_type": "code",
   "execution_count": null,
   "id": "25f6ed81",
   "metadata": {},
   "outputs": [],
   "source": [
    "df_income_16_17_occupation_9 = df_occupation_9.loc[(df_occupation_9['Age'] >=16) & (df_occupation_9['Age'] <=17)]\n",
    "\n",
    "df_income_16_17_occupation_9[\"Income\"].median()"
   ]
  },
  {
   "cell_type": "code",
   "execution_count": null,
   "id": "3ea517e4",
   "metadata": {},
   "outputs": [],
   "source": [
    "df_income_18_21_occupation_9 = df_occupation_9.loc[(df_occupation_9['Age'] >=18) & (df_occupation_9['Age'] <=21)]\n",
    "\n",
    "df_income_18_21_occupation_9[\"Income\"].median()"
   ]
  },
  {
   "cell_type": "code",
   "execution_count": null,
   "id": "2f621681",
   "metadata": {},
   "outputs": [],
   "source": [
    "df_income_22_29_occupation_9 = df_occupation_9.loc[(df_occupation_9['Age'] >=22) & (df_occupation_9['Age'] <=29)]\n",
    "\n",
    "df_income_22_29_occupation_9[\"Income\"].median()"
   ]
  },
  {
   "cell_type": "code",
   "execution_count": null,
   "id": "bde3eaa7",
   "metadata": {},
   "outputs": [],
   "source": [
    "df_income_30_39_occupation_9 = df_occupation_9.loc[(df_occupation_9['Age'] >=30) & (df_occupation_9['Age'] <=39)]\n",
    "\n",
    "df_income_30_39_occupation_9[\"Income\"].median()"
   ]
  },
  {
   "cell_type": "code",
   "execution_count": null,
   "id": "26b770f8",
   "metadata": {},
   "outputs": [],
   "source": [
    "df_income_40_49_occupation_9 = df_occupation_9.loc[(df_occupation_9['Age'] >=40) & (df_occupation_9['Age'] <=49)]\n",
    "\n",
    "df_income_40_49_occupation_9[\"Income\"].median()"
   ]
  },
  {
   "cell_type": "code",
   "execution_count": null,
   "id": "9dc00d72",
   "metadata": {},
   "outputs": [],
   "source": [
    "df_income_50_59_occupation_9 = df_occupation_9.loc[(df_occupation_9['Age'] >=50) & (df_occupation_9['Age'] <=59)]\n",
    "\n",
    "df_income_50_59_occupation_9[\"Income\"].median()"
   ]
  },
  {
   "cell_type": "code",
   "execution_count": null,
   "id": "e9fdda8f",
   "metadata": {},
   "outputs": [],
   "source": [
    "df_income_60_120_occupation_9 = df_occupation_9.loc[(df_occupation_9['Age'] >=60)]\n",
    "\n",
    "df_income_60_120_occupation_9[\"Income\"].median()"
   ]
  },
  {
   "cell_type": "code",
   "execution_count": null,
   "id": "7c6dedf9",
   "metadata": {},
   "outputs": [],
   "source": [
    "df_occupation_9_saved = df_occupation_9\n",
    "\n",
    "df_occupation_9_saved.to_csv('/home/manon/Documents/Leeds/RAIM/code/RAIM/data/westmidlands/synthetic_pop_SPENSER/'+year+'/NE_only/df_occupation_9.csv', encoding='utf-8', header=True)\n"
   ]
  },
  {
   "cell_type": "markdown",
   "id": "6030f632",
   "metadata": {},
   "source": [
    "### Occupation 4"
   ]
  },
  {
   "cell_type": "code",
   "execution_count": null,
   "id": "bd5ef4e0",
   "metadata": {},
   "outputs": [],
   "source": [
    "## Income data\n",
    "\n",
    "# Source: ONS\n",
    "## Dataset: Earnings and hours worked, region by occupation by two-digit SOC: ASHE Table 3\n",
    "## Link: https://www.ons.gov.uk/employmentandlabourmarket/peopleinwork/earningsandworkinghours/datasets/regionbyoccupation2digitsocashetable3\n",
    "## Year: 2021 revised edition of this dataset\n",
    "## File downloaded: table32021revised.zip\n",
    "## Table: Work Region Occupation SOC10 (2) Table 3.7a   Annual pay - Gross 2021.xls\n",
    "\n",
    "\n",
    "# Select estimated min and max income values based on the percentile values given in previous source.\n",
    "## These values are related to a specific region of England (in this case, WM)\n",
    "occupation_4_income = [7705,32348]\n",
    "\n",
    "##########################################################################################\n",
    "\n",
    "## Dataset: Earnings and hours worked, region by occupation by two-digit SOC: ASHE Table 15\n",
    "## Link: https://www.ons.gov.uk/employmentandlabourmarket/peopleinwork/earningsandworkinghours/datasets/regionbyoccupation4digitsoc2010ashetable15\n",
    "## Year: 2021 revised edition of this dataset\n",
    "## File downloaded: table152021revised.zip\n",
    "## Table: Work Region Occupation SOC10 (4) Table 15.12  Gender pay gap 2021.xls\n",
    "\n",
    "#### Gender pay gap per occupation type (MEAN value) WM values\n",
    "occupation_4_gap = 0.073 \n",
    "\n",
    "##########################################################################################\n",
    "##########################################################################################\n",
    "\n",
    "## code developed:\n",
    "\n",
    "# Name all occupation types to loop through them in the code:\n",
    "occupations = [4]\n",
    "\n",
    "\n",
    "for occupation in occupations:\n",
    "\n",
    "    \n",
    "    #Select the people of the df_occupation that is related to the selected OA area:\n",
    "    (globals()[f\"df_occupation_{occupation}\"]) = df_persons_NE_occupation.loc[(df_persons_NE_occupation['Occupation'] == occupation)]\n",
    "    \n",
    "    # Select the Min and Max income values of each occupation category:\n",
    "    occupation_income = (globals()[f\"occupation_{occupation}_income\"])\n",
    "    \n",
    "    \n",
    "    # Calculate the income age slot\n",
    "    ## this value will indicate the range in which agents will be assigned the income based on their age\n",
    "    income_age_width_slot = (occupation_income[1] - occupation_income[0])/ 10\n",
    "    \n",
    "    \n",
    "    ## Do the calculus just agent by agent\n",
    "    for idx_person, person in (globals()[f\"df_occupation_{occupation}\"]).iterrows():\n",
    "        \n",
    "        # Identify the slot of income based on the age (UK values)\n",
    "        ## An estimated range of income was guessed for each person based on their ages.\n",
    "        ## The estimated income by age was identified from: ONS\n",
    "        ### Earnings and hours worked, age group: ASHE Table 6\n",
    "        ### Link: https://www.ons.gov.uk/employmentandlabourmarket/peopleinwork/earningsandworkinghours/datasets/agegroupashetable6\n",
    "        ## Year: 2021 revised edition of this dataset\n",
    "        ## File downloaded: table62021revised.zip\n",
    "        ### Table: Age Group Table 6.7a   Annual pay - Gross 2021.xls\n",
    "        #### Agents aged 40-49 will earn more than any other, then agents aged 30-39, then 50-59, then 25-29, then 22-29, then 60+, then 18-21 and finally 16-17\n",
    "                    \n",
    "        \n",
    "        # Define the income range based on the age\n",
    "        if (person['Age'] <= 17):\n",
    "            income_min = occupation_income[0] - (occupation_income[0]/2)\n",
    "            income_max = occupation_income[0] - (occupation_income[0]/4)\n",
    "        elif (person['Age'] > 17 and person['Age'] <= 21):\n",
    "            income_min = occupation_income[0] -1* income_age_width_slot\n",
    "            income_max = occupation_income[0] + income_age_width_slot    \n",
    "        elif (person['Age'] > 21 and person['Age'] < 30):\n",
    "            income_min = occupation_income[0] - 0.5*income_age_width_slot\n",
    "            income_max = occupation_income[0] + 5 * income_age_width_slot\n",
    "        elif (person['Age'] >= 30 and person['Age'] < 40):\n",
    "            income_min = occupation_income[0] + 3 * income_age_width_slot\n",
    "            income_max = occupation_income[0] + 10.5 * income_age_width_slot\n",
    "        elif (person['Age'] >= 40 and person['Age'] < 50):\n",
    "            income_min = occupation_income[0] + 3.5 * income_age_width_slot\n",
    "            income_max = occupation_income[0] + 14* income_age_width_slot \n",
    "        elif (person['Age'] >= 50 and person['Age'] < 60):\n",
    "            income_min = occupation_income[0] + 3* income_age_width_slot\n",
    "            income_max = occupation_income[0] + 10.5 * income_age_width_slot\n",
    "        elif (person['Age'] >= 60):\n",
    "            income_min = occupation_income[0]\n",
    "            income_max = occupation_income[0] + 4* income_age_width_slot\n",
    "\n",
    "\n",
    "            \n",
    "        # Value identified as the income value of the person based on the occupation type and age range\n",
    "        income_selected_by_occupation_age = random.randint(int(income_min), int(income_max))\n",
    "        \n",
    "     \n",
    "        # Incorporate the gender gap\n",
    "        ## If male, then increase the income half of the gender income gap\n",
    "        ## If female, decrease the income half of the gender income gap\n",
    "        if (person['Sex'] == 1):   # Male\n",
    "            income_selected_by_occupation_age_sex = income_selected_by_occupation_age + (income_selected_by_occupation_age * (globals()[f\"occupation_{occupation}_gap\"])/2)\n",
    "        else:\n",
    "            income_selected_by_occupation_age_sex = income_selected_by_occupation_age - (income_selected_by_occupation_age * (globals()[f\"occupation_{occupation}_gap\"])/2)\n",
    "        \n",
    "                       \n",
    "        # Transform the income value into an integer and round it to the 10 closest value\n",
    "        income_chosen = int(income_selected_by_occupation_age_sex)\n",
    "        income_round = round(income_chosen,-1)\n",
    "        \n",
    "        # Update the value in the column \"Income\"\n",
    "        (globals()[f\"df_occupation_{occupation}\"]).at[idx_person,'Income'] = income_round\n",
    "        \n",
    "\n",
    "print('Job done. check the results')"
   ]
  },
  {
   "cell_type": "code",
   "execution_count": null,
   "id": "9f173888",
   "metadata": {},
   "outputs": [],
   "source": [
    "# Calculate the min, max, mean and median income values:\n",
    "column = df_occupation_4[\"Income\"]\n",
    "min_value = column.min()\n",
    "max_value = column.max()\n",
    "mean_value = column.mean()\n",
    "median_value = column.median()\n",
    "\n",
    "print(min_value)\n",
    "print(max_value)\n",
    "print(mean_value)\n",
    "print(median_value)"
   ]
  },
  {
   "cell_type": "code",
   "execution_count": null,
   "id": "dfb38fca",
   "metadata": {},
   "outputs": [],
   "source": [
    "# Difference to the mean:\n",
    "20311 -  mean_value"
   ]
  },
  {
   "cell_type": "code",
   "execution_count": null,
   "id": "f8a18f82",
   "metadata": {},
   "outputs": [],
   "source": [
    "# difference to the median\n",
    "19782 - median_value"
   ]
  },
  {
   "cell_type": "code",
   "execution_count": null,
   "id": "dd92509f",
   "metadata": {},
   "outputs": [],
   "source": [
    "# Histogram\n",
    "df_occupation_4.hist(column='Income', bins=50);"
   ]
  },
  {
   "cell_type": "code",
   "execution_count": null,
   "id": "cf6c4d99",
   "metadata": {},
   "outputs": [],
   "source": [
    "# calculate the differences between observed (ONS) and calculated percentiles for occupation 2:\n",
    "\n",
    "print(7705 - df_occupation_4.Income.quantile(0.1))\n",
    "print(11400 - df_occupation_4.Income.quantile(0.2))\n",
    "print(14551 - df_occupation_4.Income.quantile(0.3))\n",
    "print(17492 - df_occupation_4.Income.quantile(0.4))\n",
    "#print( - df_occupation_9.Income.quantile(0.5))\n",
    "print(21979 - df_occupation_4.Income.quantile(0.6))\n",
    "\n",
    "print(24202 - df_occupation_4.Income.quantile(0.7))\n",
    "print(27341 - df_occupation_4.Income.quantile(0.8))\n",
    "print(32348 - df_occupation_4.Income.quantile(0.8))\n",
    "\n"
   ]
  },
  {
   "cell_type": "markdown",
   "id": "85a1cdfa",
   "metadata": {},
   "source": [
    "##### Check the order of the median income per range of age"
   ]
  },
  {
   "cell_type": "code",
   "execution_count": null,
   "id": "fb52085a",
   "metadata": {},
   "outputs": [],
   "source": [
    "df_income_16_17_occupation_4 = df_occupation_4.loc[(df_occupation_4['Age'] >=16) & (df_occupation_4['Age'] <=17)]\n",
    "\n",
    "df_income_16_17_occupation_4[\"Income\"].median()"
   ]
  },
  {
   "cell_type": "code",
   "execution_count": null,
   "id": "be78a3aa",
   "metadata": {},
   "outputs": [],
   "source": [
    "df_income_18_21_occupation_4 = df_occupation_4.loc[(df_occupation_4['Age'] >=18) & (df_occupation_4['Age'] <=21)]\n",
    "\n",
    "df_income_18_21_occupation_4[\"Income\"].median()"
   ]
  },
  {
   "cell_type": "code",
   "execution_count": null,
   "id": "5b49d3b4",
   "metadata": {},
   "outputs": [],
   "source": [
    "df_income_22_29_occupation_4 = df_occupation_4.loc[(df_occupation_4['Age'] >=22) & (df_occupation_4['Age'] <=29)]\n",
    "\n",
    "df_income_22_29_occupation_4[\"Income\"].median()"
   ]
  },
  {
   "cell_type": "code",
   "execution_count": null,
   "id": "ec5b242d",
   "metadata": {},
   "outputs": [],
   "source": [
    "df_income_30_39_occupation_4 = df_occupation_4.loc[(df_occupation_4['Age'] >=30) & (df_occupation_4['Age'] <=39)]\n",
    "\n",
    "df_income_30_39_occupation_4[\"Income\"].median()"
   ]
  },
  {
   "cell_type": "code",
   "execution_count": null,
   "id": "dc834e5b",
   "metadata": {},
   "outputs": [],
   "source": [
    "df_income_40_49_occupation_4 = df_occupation_4.loc[(df_occupation_4['Age'] >=40) & (df_occupation_4['Age'] <=49)]\n",
    "\n",
    "df_income_40_49_occupation_4[\"Income\"].median()"
   ]
  },
  {
   "cell_type": "code",
   "execution_count": null,
   "id": "4b47c87c",
   "metadata": {},
   "outputs": [],
   "source": [
    "df_income_50_59_occupation_4 = df_occupation_4.loc[(df_occupation_4['Age'] >=50) & (df_occupation_4['Age'] <=59)]\n",
    "\n",
    "df_income_50_59_occupation_4[\"Income\"].median()"
   ]
  },
  {
   "cell_type": "code",
   "execution_count": null,
   "id": "543660ca",
   "metadata": {},
   "outputs": [],
   "source": [
    "df_income_60_120_occupation_4 = df_occupation_4.loc[(df_occupation_4['Age'] >=60)]\n",
    "\n",
    "df_income_60_120_occupation_4[\"Income\"].median()"
   ]
  },
  {
   "cell_type": "code",
   "execution_count": null,
   "id": "009ebbfb",
   "metadata": {},
   "outputs": [],
   "source": [
    "df_occupation_4_saved = df_occupation_4\n",
    "\n",
    "df_occupation_4_saved.to_csv('/home/manon/Documents/Leeds/RAIM/code/RAIM/data/westmidlands/synthetic_pop_SPENSER/'+year+'/NE_only/df_occupation_4.csv', encoding='utf-8', header=True)\n"
   ]
  },
  {
   "cell_type": "code",
   "execution_count": null,
   "id": "8154b87c",
   "metadata": {},
   "outputs": [],
   "source": []
  },
  {
   "cell_type": "markdown",
   "id": "8ead6901",
   "metadata": {},
   "source": [
    "### Occupation 1"
   ]
  },
  {
   "cell_type": "code",
   "execution_count": null,
   "id": "2455ce94",
   "metadata": {},
   "outputs": [],
   "source": [
    "## Income data\n",
    "\n",
    "# Source: ONS\n",
    "## Dataset: Earnings and hours worked, region by occupation by two-digit SOC: ASHE Table 3\n",
    "## Link: https://www.ons.gov.uk/employmentandlabourmarket/peopleinwork/earningsandworkinghours/datasets/regionbyoccupation2digitsocashetable3\n",
    "## Year: 2021 revised edition of this dataset\n",
    "## File downloaded: table32021revised.zip\n",
    "## Table: Work Region Occupation SOC10 (2) Table 3.7a   Annual pay - Gross 2021.xls\n",
    "\n",
    "\n",
    "# Select estimated min and max income values based on the percentile values given in previous source.\n",
    "## These values are related to a specific region of England (in this case, WM)\n",
    "occupation_1_income = [16187, 60278]\n",
    "\n",
    "##########################################################################################\n",
    "\n",
    "## Dataset: Earnings and hours worked, region by occupation by two-digit SOC: ASHE Table 15\n",
    "## Link: https://www.ons.gov.uk/employmentandlabourmarket/peopleinwork/earningsandworkinghours/datasets/regionbyoccupation4digitsoc2010ashetable15\n",
    "## Year: 2021 revised edition of this dataset\n",
    "## File downloaded: table152021revised.zip\n",
    "## Table: Work Region Occupation SOC10 (4) Table 15.12  Gender pay gap 2021.xls\n",
    "\n",
    "#### Gender pay gap per occupation type (MEAN value) WM values\n",
    "occupation_1_gap = 0.080\n",
    "\n",
    "##########################################################################################\n",
    "##########################################################################################\n",
    "\n",
    "## code developed:\n",
    "\n",
    "# Name all occupation types to loop through them in the code:\n",
    "occupations = [1]\n",
    "\n",
    "\n",
    "for occupation in occupations:\n",
    "\n",
    "    \n",
    "    #Select the people of the df_occupation that is related to the selected OA area:\n",
    "    (globals()[f\"df_occupation_{occupation}\"]) = df_persons_NE_occupation.loc[(df_persons_NE_occupation['Occupation'] == occupation)]\n",
    "    \n",
    "    # Select the Min and Max income values of each occupation category:\n",
    "    occupation_income = (globals()[f\"occupation_{occupation}_income\"])\n",
    "    \n",
    "    \n",
    "    # Calculate the income age slot\n",
    "    ## this value will indicate the range in which agents will be assigned the income based on their age\n",
    "    income_age_width_slot = (occupation_income[1] - occupation_income[0])/ 10\n",
    "    \n",
    "    \n",
    "    ## Do the calculus just agent by agent\n",
    "    for idx_person, person in (globals()[f\"df_occupation_{occupation}\"]).iterrows():\n",
    "        \n",
    "        # Identify the slot of income based on the age (UK values)\n",
    "        ## An estimated range of income was guessed for each person based on their ages.\n",
    "        ## The estimated income by age was identified from: ONS\n",
    "        ### Earnings and hours worked, age group: ASHE Table 6\n",
    "        ### Link: https://www.ons.gov.uk/employmentandlabourmarket/peopleinwork/earningsandworkinghours/datasets/agegroupashetable6\n",
    "        ## Year: 2021 revised edition of this dataset\n",
    "        ## File downloaded: table62021revised.zip\n",
    "        ### Table: Age Group Table 6.7a   Annual pay - Gross 2021.xls\n",
    "        #### Agents aged 40-49 will earn more than any other, then agents aged 30-39, then 50-59, then 25-29, then 22-29, then 60+, then 18-21 and finally 16-17\n",
    "                    \n",
    "        \n",
    "        # Define the income range based on the age\n",
    "        if (person['Age'] <= 17):\n",
    "            income_min = occupation_income[0] - (occupation_income[0]/3)\n",
    "            income_max = occupation_income[0] - (occupation_income[0]/5)\n",
    "        elif (person['Age'] > 17 and person['Age'] <= 21):\n",
    "            income_min = occupation_income[0] - (occupation_income[0]/3)\n",
    "            income_max = occupation_income[0] + 1.5 * (occupation_income[0])   \n",
    "        elif (person['Age'] > 21 and person['Age'] < 30):\n",
    "            income_min = occupation_income[0] - (occupation_income[0]/5)\n",
    "            income_max = occupation_income[0] + 2.25 * income_age_width_slot\n",
    "        elif (person['Age'] >= 30 and person['Age'] < 40):\n",
    "            income_min = occupation_income[0] + 1.5 * income_age_width_slot\n",
    "            income_max = occupation_income[0] + 10 * income_age_width_slot\n",
    "        elif (person['Age'] >= 40 and person['Age'] < 50):\n",
    "            income_min = occupation_income[0] + 2.5 * income_age_width_slot\n",
    "            income_max = occupation_income[0] + 20 * income_age_width_slot \n",
    "        elif (person['Age'] >= 50 and person['Age'] < 60):\n",
    "            income_min = occupation_income[0] + 2 * income_age_width_slot\n",
    "            income_max = occupation_income[0] + 12 * income_age_width_slot\n",
    "        elif (person['Age'] >= 60):\n",
    "            income_min = occupation_income[0]\n",
    "            income_max = occupation_income[0] + 4 * income_age_width_slot\n",
    "\n",
    "\n",
    "            \n",
    "        # Value identified as the income value of the person based on the occupation type and age range\n",
    "        income_selected_by_occupation_age = random.randint(int(income_min), int(income_max))\n",
    "        \n",
    "     \n",
    "        # Incorporate the gender gap\n",
    "        ## If male, then increase the income half of the gender income gap\n",
    "        ## If female, decrease the income half of the gender income gap\n",
    "        if (person['Sex'] == 1):   # Male\n",
    "            income_selected_by_occupation_age_sex = income_selected_by_occupation_age + (income_selected_by_occupation_age * (globals()[f\"occupation_{occupation}_gap\"])/2)\n",
    "        else:\n",
    "            income_selected_by_occupation_age_sex = income_selected_by_occupation_age - (income_selected_by_occupation_age * (globals()[f\"occupation_{occupation}_gap\"])/2)\n",
    "        \n",
    "                       \n",
    "        # Transform the income value into an integer and round it to the 10 closest value\n",
    "        income_chosen = int(income_selected_by_occupation_age_sex)\n",
    "        income_round = round(income_chosen,-1)\n",
    "        \n",
    "        # Update the value in the column \"Income\"\n",
    "        (globals()[f\"df_occupation_{occupation}\"]).at[idx_person,'Income'] = income_round\n",
    "        \n",
    "\n",
    "print('Job done. check the results')"
   ]
  },
  {
   "cell_type": "code",
   "execution_count": null,
   "id": "ee2229dc",
   "metadata": {},
   "outputs": [],
   "source": [
    "# calculate the min, max, mean and median income values:\n",
    "column = df_occupation_1[\"Income\"]\n",
    "min_value = column.min()\n",
    "max_value = column.max()\n",
    "mean_value = column.mean()\n",
    "median_value = column.median()\n",
    "\n",
    "print(min_value)\n",
    "print(max_value)\n",
    "print(mean_value)\n",
    "print(median_value)"
   ]
  },
  {
   "cell_type": "code",
   "execution_count": null,
   "id": "482bdae0",
   "metadata": {},
   "outputs": [],
   "source": [
    "# Difference to the mean:\n",
    "45138 -  mean_value"
   ]
  },
  {
   "cell_type": "code",
   "execution_count": null,
   "id": "29a36cef",
   "metadata": {},
   "outputs": [],
   "source": [
    "# Difference to the median:\n",
    "38221 - median_value"
   ]
  },
  {
   "cell_type": "code",
   "execution_count": null,
   "id": "f104ebf8",
   "metadata": {},
   "outputs": [],
   "source": [
    "# Histogram:\n",
    "df_occupation_1.hist(column='Income', bins=50);"
   ]
  },
  {
   "cell_type": "code",
   "execution_count": null,
   "id": "24251ed8",
   "metadata": {},
   "outputs": [],
   "source": [
    "# calculate the differences between observed (ONS) and calculated percentiles for occupation 2:\n",
    "\n",
    "print(23217 - df_occupation_1.Income.quantile(0.2))\n",
    "print(28010 - df_occupation_1.Income.quantile(0.3))\n",
    "print(33110 - df_occupation_1.Income.quantile(0.4))\n",
    "#print( - df_occupation_9.Income.quantile(0.5))\n",
    "print(43620 - df_occupation_1.Income.quantile(0.6))\n",
    "\n",
    "print(50608 - df_occupation_1.Income.quantile(0.7))\n",
    "print(60278 - df_occupation_1.Income.quantile(0.8))\n",
    "\n"
   ]
  },
  {
   "cell_type": "markdown",
   "id": "67465d63",
   "metadata": {},
   "source": [
    "##### Check the order of the median income per range of age"
   ]
  },
  {
   "cell_type": "code",
   "execution_count": null,
   "id": "7bc215e7",
   "metadata": {},
   "outputs": [],
   "source": [
    "df_income_16_17_occupation_1 = df_occupation_1.loc[(df_occupation_1['Age'] >=16) & (df_occupation_1['Age'] <=17)]\n",
    "\n",
    "df_income_16_17_occupation_1[\"Income\"].median()"
   ]
  },
  {
   "cell_type": "code",
   "execution_count": null,
   "id": "f91c6f8b",
   "metadata": {},
   "outputs": [],
   "source": [
    "df_income_18_21_occupation_1 = df_occupation_1.loc[(df_occupation_1['Age'] >=18) & (df_occupation_1['Age'] <=21)]\n",
    "\n",
    "df_income_18_21_occupation_1[\"Income\"].median()"
   ]
  },
  {
   "cell_type": "code",
   "execution_count": null,
   "id": "52a58c68",
   "metadata": {},
   "outputs": [],
   "source": [
    "df_income_22_29_occupation_1 = df_occupation_1.loc[(df_occupation_1['Age'] >=22) & (df_occupation_1['Age'] <=29)]\n",
    "\n",
    "df_income_22_29_occupation_1[\"Income\"].median()"
   ]
  },
  {
   "cell_type": "code",
   "execution_count": null,
   "id": "37077e8b",
   "metadata": {},
   "outputs": [],
   "source": [
    "df_income_30_39_occupation_1 = df_occupation_1.loc[(df_occupation_1['Age'] >=30) & (df_occupation_1['Age'] <=39)]\n",
    "\n",
    "df_income_30_39_occupation_1[\"Income\"].median()"
   ]
  },
  {
   "cell_type": "code",
   "execution_count": null,
   "id": "66e3d457",
   "metadata": {},
   "outputs": [],
   "source": [
    "df_income_40_49_occupation_1 = df_occupation_1.loc[(df_occupation_1['Age'] >=40) & (df_occupation_1['Age'] <=49)]\n",
    "\n",
    "df_income_40_49_occupation_1[\"Income\"].median()"
   ]
  },
  {
   "cell_type": "code",
   "execution_count": null,
   "id": "f04ab413",
   "metadata": {},
   "outputs": [],
   "source": [
    "df_income_50_59_occupation_1 = df_occupation_1.loc[(df_occupation_1['Age'] >=50) & (df_occupation_1['Age'] <=59)]\n",
    "\n",
    "df_income_50_59_occupation_1[\"Income\"].median()"
   ]
  },
  {
   "cell_type": "code",
   "execution_count": null,
   "id": "e2b0388c",
   "metadata": {},
   "outputs": [],
   "source": [
    "df_income_60_120_occupation_1 = df_occupation_1.loc[(df_occupation_1['Age'] >=60)]\n",
    "\n",
    "df_income_60_120_occupation_1[\"Income\"].median()"
   ]
  },
  {
   "cell_type": "code",
   "execution_count": null,
   "id": "609f03b8",
   "metadata": {},
   "outputs": [],
   "source": [
    "df_occupation_1_saved = df_occupation_1\n",
    "\n",
    "df_occupation_1_saved.to_csv('/home/manon/Documents/Leeds/RAIM/code/RAIM/data/westmidlands/synthetic_pop_SPENSER/'+year+'/NE_only/df_occupation_1.csv', encoding='utf-8', header=True)\n"
   ]
  },
  {
   "cell_type": "markdown",
   "id": "4c3e83b3",
   "metadata": {},
   "source": [
    "### Occupation 6"
   ]
  },
  {
   "cell_type": "code",
   "execution_count": null,
   "id": "5c2f3079",
   "metadata": {},
   "outputs": [],
   "source": [
    "## Income data\n",
    "\n",
    "# Source: ONS\n",
    "## Dataset: Earnings and hours worked, region by occupation by two-digit SOC: ASHE Table 3\n",
    "## Link: https://www.ons.gov.uk/employmentandlabourmarket/peopleinwork/earningsandworkinghours/datasets/regionbyoccupation2digitsocashetable3\n",
    "## Year: 2021 revised edition of this dataset\n",
    "## File downloaded: table32021revised.zip\n",
    "## Table: Work Region Occupation SOC10 (2) Table 3.7a   Annual pay - Gross 2021.xls\n",
    "\n",
    "\n",
    "# Select estimated min and max income values based on the percentile values given in previous source.\n",
    "## These values are related to a specific region of England (in this case, WM)\n",
    "occupation_6_income = [6755,25026]\n",
    "\n",
    "##########################################################################################\n",
    "\n",
    "## Dataset: Earnings and hours worked, region by occupation by two-digit SOC: ASHE Table 3\n",
    "## Link: https://www.ons.gov.uk/employmentandlabourmarket/peopleinwork/earningsandworkinghours/datasets/regionbyoccupation2digitsocashetable3\n",
    "## Year: 2021 revised edition of this dataset\n",
    "## File downloaded: table32021revised.zip\n",
    "## Table: Work Region Occupation SOC10 (2) Table 3.7a   Annual pay - Gross 2021.xls\n",
    "\n",
    "#### Gender pay gap per occupation type (MEAN value) WM values\n",
    "occupation_6_gap = 0.054\n",
    "\n",
    "##########################################################################################\n",
    "##########################################################################################\n",
    "\n",
    "## code developed:\n",
    "\n",
    "# Name all occupation types to loop through them in the code:\n",
    "occupations = [6]\n",
    "\n",
    "\n",
    "for occupation in occupations:\n",
    "\n",
    "    \n",
    "    #Select the people of the df_occupation that is related to the selected OA area:\n",
    "    (globals()[f\"df_occupation_{occupation}\"]) = df_persons_NE_occupation.loc[(df_persons_NE_occupation['Occupation'] == occupation)]\n",
    "    \n",
    "    # Select the Min and Max income values of each occupation category:\n",
    "    occupation_income = (globals()[f\"occupation_{occupation}_income\"])\n",
    "    \n",
    "    \n",
    "    # Calculate the income age slot\n",
    "    ## this value will indicate the range in which agents will be assigned the income based on their age\n",
    "    income_age_width_slot = (occupation_income[1] - occupation_income[0])/ 10\n",
    "    \n",
    "    \n",
    "    ## Do the calculus just agent by agent\n",
    "    for idx_person, person in (globals()[f\"df_occupation_{occupation}\"]).iterrows():\n",
    "        \n",
    "        # Identify the slot of income based on the age (UK values)\n",
    "        ## An estimated range of income was guessed for each person based on their ages.\n",
    "        ## The estimated income by age was identified from: ONS\n",
    "        ### Earnings and hours worked, age group: ASHE Table 6\n",
    "        ### Link: https://www.ons.gov.uk/employmentandlabourmarket/peopleinwork/earningsandworkinghours/datasets/agegroupashetable6\n",
    "        ## Year: 2021 revised edition of this dataset\n",
    "        ## File downloaded: table62021revised.zip\n",
    "        ### Table: Age Group Table 6.7a   Annual pay - Gross 2021.xls\n",
    "        #### Agents aged 40-49 will earn more than any other, then agents aged 30-39, then 50-59, then 25-29, then 22-29, then 60+, then 18-21 and finally 16-17\n",
    "                    \n",
    "        \n",
    "        # Define the income range based on the age\n",
    "        if (person['Age'] <= 17):\n",
    "            income_min = occupation_income[0] - (occupation_income[0]/4)\n",
    "            income_max = occupation_income[0] - (occupation_income[0]/10)\n",
    "        elif (person['Age'] > 17 and person['Age'] <= 21):\n",
    "            income_min = occupation_income[0] - (occupation_income[0]/4)\n",
    "            income_max = occupation_income[0] + 1.5 * (occupation_income[0])   \n",
    "        elif (person['Age'] > 21 and person['Age'] < 30):\n",
    "            income_min = occupation_income[0] \n",
    "            income_max = occupation_income[0] + 8 * income_age_width_slot\n",
    "        elif (person['Age'] >= 30 and person['Age'] < 40):\n",
    "            income_min = occupation_income[0] + 1 * income_age_width_slot\n",
    "            income_max = occupation_income[0] + 10 * income_age_width_slot\n",
    "        elif (person['Age'] >= 40 and person['Age'] < 50):\n",
    "            income_min = occupation_income[0] + 2.5 * income_age_width_slot\n",
    "            income_max = occupation_income[0] + 16 * income_age_width_slot \n",
    "        elif (person['Age'] >= 50 and person['Age'] < 60):\n",
    "            income_min = occupation_income[0] + 2.5 * income_age_width_slot\n",
    "            income_max = occupation_income[0] + 10 * income_age_width_slot\n",
    "        elif (person['Age'] >= 60):\n",
    "            income_min = occupation_income[0] + 1 * income_age_width_slot\n",
    "            income_max = occupation_income[0] + 5 * income_age_width_slot\n",
    "\n",
    "\n",
    "            \n",
    "        # Value identified as the income value of the person based on the occupation type and age range\n",
    "        income_selected_by_occupation_age = random.randint(int(income_min), int(income_max))\n",
    "        \n",
    "     \n",
    "        # Incorporate the gender gap\n",
    "        ## If male, then increase the income half of the gender income gap\n",
    "        ## If female, decrease the income half of the gender income gap\n",
    "        if (person['Sex'] == 1):   # Male\n",
    "            income_selected_by_occupation_age_sex = income_selected_by_occupation_age + (income_selected_by_occupation_age * (globals()[f\"occupation_{occupation}_gap\"])/2)\n",
    "        else:\n",
    "            income_selected_by_occupation_age_sex = income_selected_by_occupation_age - (income_selected_by_occupation_age * (globals()[f\"occupation_{occupation}_gap\"])/2)\n",
    "        \n",
    "                       \n",
    "        # Transform the income value into an integer and round it to the 10 closest value\n",
    "        income_chosen = int(income_selected_by_occupation_age_sex)\n",
    "        income_round = round(income_chosen,-1)\n",
    "        \n",
    "        # Update the value in the column \"Income\"\n",
    "        (globals()[f\"df_occupation_{occupation}\"]).at[idx_person,'Income'] = income_round\n",
    "        \n",
    "\n",
    "print('Job done. check the results')"
   ]
  },
  {
   "cell_type": "code",
   "execution_count": null,
   "id": "d18c1e94",
   "metadata": {},
   "outputs": [],
   "source": [
    "# Calculate the min, max, mean and median income values:\n",
    "column = df_occupation_6[\"Income\"]\n",
    "min_value = column.min()\n",
    "max_value = column.max()\n",
    "mean_value = column.mean()\n",
    "median_value = column.median()\n",
    "\n",
    "print(min_value)\n",
    "print(max_value)\n",
    "print(mean_value)\n",
    "print(median_value)"
   ]
  },
  {
   "cell_type": "code",
   "execution_count": null,
   "id": "c6314e89",
   "metadata": {},
   "outputs": [],
   "source": [
    "# difference to the mean:\n",
    "15569 -  mean_value"
   ]
  },
  {
   "cell_type": "code",
   "execution_count": null,
   "id": "5b1c7679",
   "metadata": {},
   "outputs": [],
   "source": [
    "# Difference to the median:\n",
    "16031 - median_value"
   ]
  },
  {
   "cell_type": "code",
   "execution_count": null,
   "id": "0a51de4c",
   "metadata": {},
   "outputs": [],
   "source": [
    "# Histogram:\n",
    "df_occupation_6.hist(column='Income', bins=50);"
   ]
  },
  {
   "cell_type": "code",
   "execution_count": null,
   "id": "a9ad42ef",
   "metadata": {},
   "outputs": [],
   "source": [
    "# calculate the differences between observed (ONS) and calculated percentiles for occupation 2:\n",
    "\n",
    "print(11091 - df_occupation_6.Income.quantile(0.25))\n",
    "print(12022 - df_occupation_6.Income.quantile(0.3))\n",
    "print(13844 - df_occupation_6.Income.quantile(0.4))\n",
    "#print( - df_occupation_6.Income.quantile(0.5))\n",
    "print(17175 - df_occupation_6.Income.quantile(0.6))\n",
    "\n",
    "print(19103 - df_occupation_6.Income.quantile(0.7))\n",
    "print(21408 - df_occupation_6.Income.quantile(0.8))\n"
   ]
  },
  {
   "cell_type": "markdown",
   "id": "aece133c",
   "metadata": {},
   "source": [
    "##### Check the order of the median income per range of age"
   ]
  },
  {
   "cell_type": "code",
   "execution_count": null,
   "id": "26944caa",
   "metadata": {},
   "outputs": [],
   "source": [
    "df_income_16_17_occupation_6 = df_occupation_6.loc[(df_occupation_6['Age'] >=16) & (df_occupation_6['Age'] <=17)]\n",
    "\n",
    "df_income_16_17_occupation_6[\"Income\"].median()"
   ]
  },
  {
   "cell_type": "code",
   "execution_count": null,
   "id": "32a91d76",
   "metadata": {},
   "outputs": [],
   "source": [
    "df_income_18_21_occupation_6 = df_occupation_6.loc[(df_occupation_6['Age'] >=18) & (df_occupation_6['Age'] <=21)]\n",
    "\n",
    "df_income_18_21_occupation_6[\"Income\"].median()"
   ]
  },
  {
   "cell_type": "code",
   "execution_count": null,
   "id": "58fbec90",
   "metadata": {},
   "outputs": [],
   "source": [
    "df_income_22_29_occupation_6 = df_occupation_6.loc[(df_occupation_6['Age'] >=22) & (df_occupation_6['Age'] <=29)]\n",
    "\n",
    "df_income_22_29_occupation_6[\"Income\"].median()"
   ]
  },
  {
   "cell_type": "code",
   "execution_count": null,
   "id": "5e976a14",
   "metadata": {},
   "outputs": [],
   "source": [
    "df_income_30_39_occupation_6 = df_occupation_6.loc[(df_occupation_6['Age'] >=30) & (df_occupation_6['Age'] <=39)]\n",
    "\n",
    "df_income_30_39_occupation_6[\"Income\"].median()"
   ]
  },
  {
   "cell_type": "code",
   "execution_count": null,
   "id": "216a7d61",
   "metadata": {},
   "outputs": [],
   "source": [
    "df_income_40_49_occupation_6 = df_occupation_6.loc[(df_occupation_6['Age'] >=40) & (df_occupation_6['Age'] <=49)]\n",
    "\n",
    "df_income_40_49_occupation_6[\"Income\"].median()"
   ]
  },
  {
   "cell_type": "code",
   "execution_count": null,
   "id": "675e05c7",
   "metadata": {},
   "outputs": [],
   "source": [
    "df_income_50_59_occupation_6 = df_occupation_6.loc[(df_occupation_6['Age'] >=50) & (df_occupation_6['Age'] <=59)]\n",
    "\n",
    "df_income_50_59_occupation_6[\"Income\"].median()"
   ]
  },
  {
   "cell_type": "code",
   "execution_count": null,
   "id": "d8738013",
   "metadata": {},
   "outputs": [],
   "source": [
    "df_income_60_120_occupation_6 = df_occupation_6.loc[(df_occupation_6['Age'] >=60)]\n",
    "\n",
    "df_income_60_120_occupation_6[\"Income\"].median()"
   ]
  },
  {
   "cell_type": "code",
   "execution_count": null,
   "id": "215825ba",
   "metadata": {},
   "outputs": [],
   "source": [
    "# Save data as csv"
   ]
  },
  {
   "cell_type": "code",
   "execution_count": null,
   "id": "09d4abb7",
   "metadata": {},
   "outputs": [],
   "source": [
    "df_occupation_6_saved = df_occupation_6\n",
    "\n",
    "df_occupation_6_saved.to_csv('/home/manon/Documents/Leeds/RAIM/code/RAIM/data/westmidlands/synthetic_pop_SPENSER/'+year+'/NE_only/df_occupation_6.csv', encoding='utf-8', header=True)\n"
   ]
  },
  {
   "cell_type": "markdown",
   "id": "ff42d8f5",
   "metadata": {},
   "source": [
    "## Concatenate all results in a dataframe"
   ]
  },
  {
   "cell_type": "code",
   "execution_count": null,
   "id": "68732ba4",
   "metadata": {},
   "outputs": [],
   "source": [
    "frames = [df_occupation_1, df_occupation_2, df_occupation_3, df_occupation_4, df_occupation_5, df_occupation_6, df_occupation_7, df_occupation_8, df_occupation_9]\n",
    "\n",
    "df_income_all = pd.concat(frames)"
   ]
  },
  {
   "cell_type": "markdown",
   "id": "54cc7191",
   "metadata": {},
   "source": [
    "## Save the dataframe with all income values as a csv"
   ]
  },
  {
   "cell_type": "code",
   "execution_count": null,
   "id": "296bc4e9",
   "metadata": {},
   "outputs": [],
   "source": [
    "df_income_all_saved = df_income_all\n",
    "\n",
    "df_income_all_saved.to_csv('/home/manon/Documents/Leeds/RAIM/code/RAIM/data/westmidlands/synthetic_pop_SPENSER/'+year+'/NE_only/df_income_all_saved.csv', encoding='utf-8', header=True)\n"
   ]
  },
  {
   "cell_type": "markdown",
   "id": "98c51ef1",
   "metadata": {},
   "source": [
    "## Check global results"
   ]
  },
  {
   "cell_type": "code",
   "execution_count": null,
   "id": "7082d151",
   "metadata": {},
   "outputs": [],
   "source": [
    "# Calculate min, max, mean and median income values:\n",
    "column = df_income_all[\"Income\"]\n",
    "min_value = column.min()\n",
    "max_value = column.max()\n",
    "mean_value = column.mean()\n",
    "median_value = column.median()\n",
    "\n",
    "print(min_value)\n",
    "print(max_value)\n",
    "print(mean_value)\n",
    "print(median_value)"
   ]
  },
  {
   "cell_type": "code",
   "execution_count": null,
   "id": "dca5f6ed",
   "metadata": {},
   "outputs": [],
   "source": [
    "#difference to median\n",
    "22602 - median_value"
   ]
  },
  {
   "cell_type": "code",
   "execution_count": null,
   "id": "15b8ec49",
   "metadata": {},
   "outputs": [],
   "source": [
    "# Difference to mean\n",
    "26339 - mean_value"
   ]
  },
  {
   "cell_type": "code",
   "execution_count": null,
   "id": "e3765ce3",
   "metadata": {},
   "outputs": [],
   "source": [
    "# calculate the differences between observed (ONS) and calculated percentiles for occupation 2:\n",
    "\n",
    "print(7993 - df_income_all.Income.quantile(0.1))\n",
    "print(12607 - df_income_all.Income.quantile(0.2))\n",
    "print(16679 - df_income_all.Income.quantile(0.3))\n",
    "print(19560 - df_income_all.Income.quantile(0.4))\n",
    "print(22602 - df_income_all.Income.quantile(0.5))\n",
    "print(26126 - df_income_all.Income.quantile(0.6))\n",
    "print(30605 - df_income_all.Income.quantile(0.7))\n",
    "print(36523 - df_income_all.Income.quantile(0.8))\n",
    "print(45580 - df_income_all.Income.quantile(0.9))"
   ]
  },
  {
   "cell_type": "code",
   "execution_count": null,
   "id": "ff65ef18",
   "metadata": {},
   "outputs": [],
   "source": [
    "print(df_income_all.Income.quantile(0.1))\n",
    "print(df_income_all.Income.quantile(0.2))\n",
    "print(df_income_all.Income.quantile(0.3))\n",
    "print(df_income_all.Income.quantile(0.4))\n",
    "print(df_income_all.Income.quantile(0.5))\n",
    "print(df_income_all.Income.quantile(0.6))\n",
    "print(df_income_all.Income.quantile(0.7))\n",
    "print(df_income_all.Income.quantile(0.8))\n",
    "print(df_income_all.Income.quantile(0.9))"
   ]
  },
  {
   "cell_type": "markdown",
   "id": "f901bffb",
   "metadata": {},
   "source": [
    "##### Check the order of the median income per range of age"
   ]
  },
  {
   "cell_type": "code",
   "execution_count": null,
   "id": "6b053033",
   "metadata": {},
   "outputs": [],
   "source": [
    "df_income_all_1 = df_income_all.loc[(df_income_all['Age'] >=16) & (df_income_all['Age'] <=17)]\n",
    "\n",
    "df_income_all_1[\"Income\"].median()"
   ]
  },
  {
   "cell_type": "code",
   "execution_count": null,
   "id": "dad328f7",
   "metadata": {},
   "outputs": [],
   "source": [
    "df_income_all_2 = df_income_all.loc[(df_income_all['Age'] >=18) & (df_income_all['Age'] <=21)]\n",
    "\n",
    "df_income_all_2[\"Income\"].median()"
   ]
  },
  {
   "cell_type": "code",
   "execution_count": null,
   "id": "0d600652",
   "metadata": {},
   "outputs": [],
   "source": [
    "df_income_all_3 = df_income_all.loc[(df_income_all['Age'] >=22) & (df_income_all['Age'] <=29)]\n",
    "\n",
    "df_income_all_3[\"Income\"].median()"
   ]
  },
  {
   "cell_type": "code",
   "execution_count": null,
   "id": "669a634a",
   "metadata": {},
   "outputs": [],
   "source": [
    "df_income_all_4 = df_income_all.loc[(df_income_all['Age'] >=30) & (df_income_all['Age'] <=39)]\n",
    "\n",
    "df_income_all_4[\"Income\"].median()"
   ]
  },
  {
   "cell_type": "code",
   "execution_count": null,
   "id": "9ad05196",
   "metadata": {},
   "outputs": [],
   "source": [
    "df_income_all_5 = df_income_all.loc[(df_income_all['Age'] >=40) & (df_income_all['Age'] <=49)]\n",
    "\n",
    "df_income_all_5[\"Income\"].median()"
   ]
  },
  {
   "cell_type": "code",
   "execution_count": null,
   "id": "3ea53990",
   "metadata": {},
   "outputs": [],
   "source": [
    "df_income_all_6 = df_income_all.loc[(df_income_all['Age'] >=50) & (df_income_all['Age'] <=59)]\n",
    "\n",
    "df_income_all_6[\"Income\"].median()"
   ]
  },
  {
   "cell_type": "code",
   "execution_count": null,
   "id": "34837afd",
   "metadata": {},
   "outputs": [],
   "source": [
    "df_income_all_7 = df_income_all.loc[(df_income_all['Age'] >=60)]\n",
    "\n",
    "df_income_all_7[\"Income\"].median()"
   ]
  }
 ],
 "metadata": {
  "kernelspec": {
   "display_name": "Python 3 (ipykernel)",
   "language": "python",
   "name": "python3"
  },
  "language_info": {
   "codemirror_mode": {
    "name": "ipython",
    "version": 3
   },
   "file_extension": ".py",
   "mimetype": "text/x-python",
   "name": "python",
   "nbconvert_exporter": "python",
   "pygments_lexer": "ipython3",
   "version": "3.8.10"
  }
 },
 "nbformat": 4,
 "nbformat_minor": 5
}
