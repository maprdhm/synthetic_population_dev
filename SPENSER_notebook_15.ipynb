{
 "cells": [
  {
   "cell_type": "code",
   "execution_count": null,
   "id": "5b81acf6",
   "metadata": {},
   "outputs": [],
   "source": [
    "import glob\n",
    "import pandas as pd\n",
    "import numpy as np\n",
    "import os\n",
    "import csv\n",
    "import sys\n",
    "\n",
    "year='2021'"
   ]
  },
  {
   "cell_type": "code",
   "execution_count": null,
   "id": "06459a64",
   "metadata": {},
   "outputs": [],
   "source": [
    "# Open the file with the persons highest degree (output from spenser_notebook_13)\n",
    "df_degree_dir = '/home/manon/Documents/Leeds/RAIM/code/RAIM/data/westmidlands/synthetic_pop_SPENSER/'+year+'/NE_only/' # use your path\n",
    "df_degree_file = os.path.join(df_degree_dir, \"df_persons_NE_sociodemographics_hdegree.csv\")\n",
    "df_degree = pd.read_csv(df_degree_file, index_col=None, header=0)\n"
   ]
  },
  {
   "cell_type": "code",
   "execution_count": null,
   "id": "03454d56",
   "metadata": {},
   "outputs": [],
   "source": [
    "df_degree['Highest degree'] = df_degree['Highest degree'].fillna(0)\n",
    "df_degree"
   ]
  },
  {
   "cell_type": "code",
   "execution_count": null,
   "id": "75f722cb",
   "metadata": {},
   "outputs": [],
   "source": [
    "# Open the file with the persons health status (output from spenser_notebook_14)\n",
    "df_health_dir = '/home/manon/Documents/Leeds/RAIM/code/RAIM/data/westmidlands/synthetic_pop_SPENSER/'+year+'/NE_only/' # use your path\n",
    "df_health_file = os.path.join(df_health_dir, \"df_persons_NE_sociodemographics_health.csv\")\n",
    "df_health = pd.read_csv(df_health_file, index_col=None, header=0)"
   ]
  },
  {
   "cell_type": "code",
   "execution_count": null,
   "id": "3c501b92",
   "metadata": {},
   "outputs": [],
   "source": [
    "df_health"
   ]
  },
  {
   "cell_type": "code",
   "execution_count": null,
   "id": "90ea6045",
   "metadata": {},
   "outputs": [],
   "source": [
    "# Open the file with the persons sociodemographics and mobility (output from spenser_notebook_12)\n",
    "df_sociomob_dir = '/home/manon/Documents/Leeds/RAIM/code/RAIM/data/westmidlands/synthetic_pop_SPENSER/'+year+'/NE_only/' # use your path\n",
    "df_sociomob_file = os.path.join(df_sociomob_dir, \"df_persons_NE_sociodemographics_mobility_clean_correct.csv\")\n",
    "df_sociomob = pd.read_csv(df_sociomob_file, index_col=None, header=0)"
   ]
  },
  {
   "cell_type": "code",
   "execution_count": null,
   "id": "171ac6b1",
   "metadata": {},
   "outputs": [],
   "source": [
    "df_sociomob"
   ]
  },
  {
   "cell_type": "code",
   "execution_count": null,
   "id": "16bfebb6",
   "metadata": {},
   "outputs": [],
   "source": [
    "#Join df_degree with df_health \"Health_status\" column\n",
    "df_persons_NE_health_degree = df_degree.merge(df_health[['PID_AreaMSOA','Health_status']], on=['PID_AreaMSOA'], how='left')"
   ]
  },
  {
   "cell_type": "code",
   "execution_count": null,
   "id": "a099464b",
   "metadata": {},
   "outputs": [],
   "source": [
    "df_persons_NE_health_degree"
   ]
  },
  {
   "cell_type": "code",
   "execution_count": null,
   "id": "7188c954",
   "metadata": {},
   "outputs": [],
   "source": [
    "#Join df_persons_NE_health_degree with df_sociomob \n",
    "df_persons_NE_all = df_sociomob.merge(df_persons_NE_health_degree[['PID_AreaMSOA','Health_status','Highest degree']], on=['PID_AreaMSOA'], how='left')"
   ]
  },
  {
   "cell_type": "code",
   "execution_count": null,
   "id": "713d7fd8",
   "metadata": {},
   "outputs": [],
   "source": [
    "df_persons_NE_all"
   ]
  },
  {
   "cell_type": "code",
   "execution_count": null,
   "id": "6a16add7",
   "metadata": {},
   "outputs": [],
   "source": [
    "#Get only these columns\n",
    "df_persons_NE_clean = df_persons_NE_all[['PID', \n",
    "              'PID_AreaMSOA', 'HID', 'HID_AreaOA', 'Area_MSOA', 'Area_OA', 'HRPID_AreaMSOA',\n",
    "              'Sex', 'Age', 'Ethnic', 'Marital_status', 'Children_dependency', 'Adult_Similar_age',\n",
    "              'Total_People_in_household', 'Total_Children_in_household', 'Same_ethnic',\n",
    "              'Economic_activity', 'Occupation', 'Income', 'Driving_license', 'Car_access', 'Bike_access',\n",
    "              'LC4202_C_CARSNO', 'LC4202_C_ETHHUK11', 'LC4404_C_SIZHUK11', 'LC4408_C_AHTHUK11',\n",
    "              'QS420_CELL_x', 'Highest degree', 'Health_status']]\n",
    "#Rename the column names of 'df_persons_NE'\n",
    "df_persons_NE_clean = df_persons_NE_clean.rename({'QS420_CELL_x': 'QS420_CELL',\n",
    "                                                 'Highest degree': 'Highest_degree'}, axis=1)\n"
   ]
  },
  {
   "cell_type": "code",
   "execution_count": null,
   "id": "7af953f4",
   "metadata": {},
   "outputs": [],
   "source": [
    "# Check if there are duplicates:\n",
    "df_persons_NE_clean_1 = df_persons_NE_clean\n",
    "\n",
    "# Remove duplicates\n",
    "df_persons_NE_clean_1 = df_persons_NE_clean_1.drop_duplicates(subset='PID_AreaMSOA',keep = False)\n",
    "\n",
    "len(df_persons_NE_clean_1)"
   ]
  },
  {
   "cell_type": "code",
   "execution_count": null,
   "id": "d7be78e7",
   "metadata": {},
   "outputs": [],
   "source": [
    "# Save dataframe\n",
    "df_persons_NE_clean_1.to_csv('/home/manon/Documents/Leeds/RAIM/code/RAIM/data/westmidlands/synthetic_pop_SPENSER/'+year+'/NE_only/df_persons_NE_all.csv', encoding='utf-8', header=True)\n"
   ]
  },
  {
   "cell_type": "code",
   "execution_count": null,
   "id": "26621544",
   "metadata": {},
   "outputs": [],
   "source": []
  }
 ],
 "metadata": {
  "kernelspec": {
   "display_name": "Python 3 (ipykernel)",
   "language": "python",
   "name": "python3"
  },
  "language_info": {
   "codemirror_mode": {
    "name": "ipython",
    "version": 3
   },
   "file_extension": ".py",
   "mimetype": "text/x-python",
   "name": "python",
   "nbconvert_exporter": "python",
   "pygments_lexer": "ipython3",
   "version": "3.9.12"
  }
 },
 "nbformat": 4,
 "nbformat_minor": 5
}
